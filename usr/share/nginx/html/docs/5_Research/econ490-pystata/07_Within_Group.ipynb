{
  "cells": [
    {
      "cell_type": "markdown",
      "metadata": {},
      "source": [
        "# 07 - Conducting Within Group Analysis\n",
        "\n",
        "Marina Adshade, Paul Corcuera, Giulia Lo Forte, Jane Platt  \n",
        "2024-05-29\n",
        "\n",
        "## Prerequisites\n",
        "\n",
        "1.  Be able to effectively use Stata do-files and generate log-files.\n",
        "2.  Be able to change your directory so that Stata can find your files.\n",
        "3.  Import data sets in csv and dta format.\n",
        "4.  Save data files.\n",
        "\n",
        "## Learning Outcomes\n",
        "\n",
        "1.  Create new variables using the command `egen`.\n",
        "2.  Know when to use the pre-command `by` and when to use `bysort`.\n",
        "3.  Use the command `collapse` to create a new data set of summary\n",
        "    statistics.\n",
        "4.  Change a panel data set to a cross-sectional data set using the\n",
        "    command `reshape`.\n",
        "\n",
        "## 7.0 Intro"
      ],
      "id": "c0625101-cb6c-4345-b0e2-3f8291f8a741"
    },
    {
      "cell_type": "code",
      "execution_count": 1,
      "metadata": {},
      "outputs": [],
      "source": [
        "import stata_setup\n",
        "stata_setup.config('C:\\Program Files\\Stata18/','se')"
      ],
      "id": "19ca79bf"
    },
    {
      "cell_type": "code",
      "execution_count": 2,
      "metadata": {},
      "outputs": [],
      "source": [
        ">>> import sys\n",
        ">>> sys.path.append('/Applications/Stata/utilities') # make sure this is the same as what you set up in Module 01, Section 1.3: Setting Up the STATA Path\n",
        ">>> from pystata import config\n",
        ">>> config.init('se')"
      ],
      "id": "7783fa27"
    },
    {
      "cell_type": "markdown",
      "metadata": {},
      "source": [
        "## 7.1 Introduction to Working Within Groups\n",
        "\n",
        "There are times when we will want to analyze our data while considering\n",
        "observations as a part of a group. Consider some of the following\n",
        "examples:\n",
        "\n",
        "-   We would like to know the average wages of workers by educational\n",
        "    grouping, in each year of the data.\n",
        "-   We would like to know the standard deviation of men and women’s\n",
        "    earnings, by geographic region.\n",
        "-   We would like to know the top quintile of wealth, by birth cohort.\n",
        "\n",
        "In this module, we will go over how to calculate these statistics using\n",
        "the fake data set introduced in the previous lecture. Recall that this\n",
        "data set is simulating information of workers in the years 1982-2012 in\n",
        "a fake country where a training program was introduced in 2003 to boost\n",
        "their earnings.\n",
        "\n",
        "Let’s begin by loading that data set into Stata:"
      ],
      "id": "c7f7bce9-190a-4a75-b80e-6368b3c01771"
    },
    {
      "cell_type": "code",
      "execution_count": 3,
      "metadata": {},
      "outputs": [],
      "source": [
        "%%stata\n",
        "\n",
        "clear *\n",
        "* cd \" \"\n",
        "use \"fake_data.dta\", clear"
      ],
      "id": "c55cf17b"
    },
    {
      "cell_type": "markdown",
      "metadata": {},
      "source": [
        "## 7.2 Generating Variables using `generate`\n",
        "\n",
        "When we are working on a particular project, it is important to know how\n",
        "to create variables that are computed for a group rather than an\n",
        "individual or an observation. For instance, we may have a data set that\n",
        "is divided by individual and by year. We might want the variables to\n",
        "show us the statistics of a particular individual throughout the years\n",
        "or the statistics of all individuals each year.\n",
        "\n",
        "Stata provides a function to easily compute such statistics. The key to\n",
        "this analysis is the pre-command `by`. A pre-command is simply a prefix\n",
        "that tells Stata how we want it to run the command. In the case of `by`,\n",
        "we tell Stata to run the command on the subsets of data. The only\n",
        "requirement to using this pre-command is to ensure that the data is\n",
        "sorted the correct way.\n",
        "\n",
        "Let’s take a look at our data by using the `browse` command we learned\n",
        "in [Module\n",
        "5](https://comet.arts.ubc.ca/docs/Research/econ490-pystata/05_Opening_Datasets.html)."
      ],
      "id": "d3fd84fc-1abd-4cca-8d3b-a75e448d56f6"
    },
    {
      "cell_type": "code",
      "execution_count": 4,
      "metadata": {},
      "outputs": [],
      "source": [
        "%%stata\n",
        "\n",
        "%browse 10"
      ],
      "id": "20f8a8c1"
    },
    {
      "cell_type": "markdown",
      "metadata": {},
      "source": [
        "We can tell here that the data is sorted by the variable *workerid*.\n",
        "\n",
        "We use the pre-command `by` alongside the command `generate` to develop\n",
        "these group-compounded variables.\n",
        "\n",
        "If we use variables other than *workerid* (the variable by which the\n",
        "data is sorted) to group our new variable, we will not be able to\n",
        "generate the new variable. We can see this error when we run the command\n",
        "below."
      ],
      "id": "d22b8a13-e079-4341-97c8-3dd8a48bdba4"
    },
    {
      "cell_type": "code",
      "execution_count": 5,
      "metadata": {},
      "outputs": [],
      "source": [
        "%%stata\n",
        "\n",
        "capture drop var_one //recall that capture drop tells Stata to ignore any errors if var_one does not exist, and to drop it if it does\n",
        "by year: generate var_one = 1 "
      ],
      "id": "b99530b2"
    },
    {
      "cell_type": "markdown",
      "metadata": {},
      "source": [
        "If we want to group by year, Stata expects us to sort the data such that\n",
        "all observations corresponding to the same year are next to each other.\n",
        "We can use the `sort` pre-command as follows."
      ],
      "id": "41baeb8e-ea7e-4497-965a-cd3d40ddf385"
    },
    {
      "cell_type": "code",
      "execution_count": 6,
      "metadata": {},
      "outputs": [],
      "source": [
        "%%stata\n",
        "\n",
        "sort year "
      ],
      "id": "37283495"
    },
    {
      "cell_type": "markdown",
      "metadata": {},
      "source": [
        "Let’s take a look at our data now."
      ],
      "id": "5a2d18c2-56d2-4326-9610-81e3b20aa99f"
    },
    {
      "cell_type": "code",
      "execution_count": 7,
      "metadata": {},
      "outputs": [],
      "source": [
        "%%stata\n",
        "\n",
        "%browse 10"
      ],
      "id": "542a2719"
    },
    {
      "cell_type": "markdown",
      "metadata": {},
      "source": [
        "Let’s try the command above again, now with the sorted data."
      ],
      "id": "6b94b5b9-f96c-42cd-8cb3-ea9c5f029a54"
    },
    {
      "cell_type": "code",
      "execution_count": 8,
      "metadata": {},
      "outputs": [],
      "source": [
        "%%stata\n",
        "\n",
        "capture drop var_one \n",
        "by year: generate var_one = 1 "
      ],
      "id": "453eb4f3"
    },
    {
      "cell_type": "markdown",
      "metadata": {},
      "source": [
        "Now that the data is sorted by year, the code works!\n",
        "\n",
        "We could have also used the pre-command `bysort` instead of sorting the\n",
        "data with `sort` and then using `by`. Everything is done in one step!\n",
        "\n",
        "Let’s sort the data, so it is reverted back to the same ordering scheme\n",
        "as when we started (by *workerid*), and generate our new variable again.\n",
        "\n",
        "Stata also lets us sort by two variables. The following block of code\n",
        "tells Stata to first `sort` the data by *workerid*, and then within each\n",
        "*workerid*, to sort the data by *year*."
      ],
      "id": "9b61c728-8e99-4b51-aad9-4fcd25f985db"
    },
    {
      "cell_type": "code",
      "execution_count": 9,
      "metadata": {},
      "outputs": [],
      "source": [
        "%%stata\n",
        "\n",
        "sort workerid year "
      ],
      "id": "ada2b416"
    },
    {
      "cell_type": "code",
      "execution_count": 10,
      "metadata": {},
      "outputs": [],
      "source": [
        "%%stata\n",
        "\n",
        "capture drop var_one \n",
        "bysort year: generate var_one = 1 "
      ],
      "id": "9b9fab42"
    },
    {
      "cell_type": "markdown",
      "metadata": {},
      "source": [
        "The variable we have created is not interesting by any means. It simply\n",
        "takes the value of 1 everywhere. In fact, we haven’t done anything that\n",
        "we couldn’t have done with `gen var_one=1`. We can see this by using the\n",
        "`summarize` command."
      ],
      "id": "af554675-90b7-45b9-9d58-206ac2ff47de"
    },
    {
      "cell_type": "code",
      "execution_count": 11,
      "metadata": {},
      "outputs": [],
      "source": [
        "%%stata\n",
        "\n",
        "summarize var_one"
      ],
      "id": "1010961c"
    },
    {
      "cell_type": "markdown",
      "metadata": {},
      "source": [
        "You may not be aware, but Stata records the observation number as a\n",
        "hidden variable (a scalar) called <i>\\_n</i> and the total number of\n",
        "observations as <i>\\_N</i>.\n",
        "\n",
        "Let’s take a look at these by creating two newvariables: one that is the\n",
        "observation number and one that is the total number of observations."
      ],
      "id": "f0c9ee0c-6b8e-4600-9ddf-f813186c10b2"
    },
    {
      "cell_type": "code",
      "execution_count": 12,
      "metadata": {},
      "outputs": [],
      "source": [
        "%%stata\n",
        "\n",
        "capture drop obs_number \n",
        "generate obs_number = _n \n",
        "\n",
        "capture drop tot_obs\n",
        "generate tot_obs = _N"
      ],
      "id": "dd817cf2"
    },
    {
      "cell_type": "code",
      "execution_count": 13,
      "metadata": {},
      "outputs": [],
      "source": [
        "%%stata\n",
        "\n",
        "%browse 10"
      ],
      "id": "ffa7c9ab"
    },
    {
      "cell_type": "markdown",
      "metadata": {},
      "source": [
        "As expected, the numbering of observations is sensitive to the way that\n",
        "the data is sorted! The cool thing is that whenever we use the\n",
        "pre-command `by`, the scalars <i>\\_n</i> and <i>\\_N</i> record the\n",
        "observation number and total number of observations for each group\n",
        "separately. Let’s check that below:"
      ],
      "id": "5f6903fd-9cf3-4213-bdc1-bc4f831d47f5"
    },
    {
      "cell_type": "code",
      "execution_count": 14,
      "metadata": {},
      "outputs": [],
      "source": [
        "%%stata\n",
        "\n",
        "capture drop obs_number \n",
        "bysort workerid: generate obs_number = _n \n",
        "\n",
        "capture drop tot_obs\n",
        "bysort workerid: generate tot_obs = _N"
      ],
      "id": "6b7e3fe8"
    },
    {
      "cell_type": "code",
      "execution_count": 15,
      "metadata": {},
      "outputs": [],
      "source": [
        "%%stata\n",
        "\n",
        "%browse 10"
      ],
      "id": "2856dec8"
    },
    {
      "cell_type": "markdown",
      "metadata": {},
      "source": [
        "As we can see, some workers are observed only 2 times in the data (they\n",
        "were only surveyed in two years), whereas other workers are observed 8\n",
        "times (they were surveyed in 8 years). By knowing (and recording in a\n",
        "variable) the number of times a worker has been observed, we can do some\n",
        "analysis based on this information. For example, in some cases you might\n",
        "be interested in keeping only workers who are observed across all time\n",
        "periods. In this case, you could use the command:"
      ],
      "id": "926a2851-0c20-45e6-949e-eee0c5c517ab"
    },
    {
      "cell_type": "code",
      "execution_count": 16,
      "metadata": {},
      "outputs": [],
      "source": [
        "%%stata\n",
        "\n",
        "keep if tot_obs==8"
      ],
      "id": "ad8591fb"
    },
    {
      "cell_type": "code",
      "execution_count": 17,
      "metadata": {},
      "outputs": [],
      "source": [
        "%%stata\n",
        "\n",
        "%browse 10"
      ],
      "id": "2aabf1ef"
    },
    {
      "cell_type": "markdown",
      "metadata": {},
      "source": [
        "## 7.3 Generating Variables Using Extended Generate\n",
        "\n",
        "The command `egen` is used whenever we want to create variables which\n",
        "require access to some functions (e.g. mean, standard deviation, min).\n",
        "The basic syntax works as follows:\n",
        "\n",
        "``` stata\n",
        " bysort groupvar: egen new_var = function() , options\n",
        "```\n",
        "\n",
        "Let’s see an example where we create a new variable called\n",
        "*avg_earnings*, which is the mean of earnings for every worker. We will\n",
        "need to reload our data since we dropped many observations above when we\n",
        "used the `keep` command."
      ],
      "id": "afd97660-3b8b-4a0e-a075-0a313ce4f2b5"
    },
    {
      "cell_type": "code",
      "execution_count": 18,
      "metadata": {},
      "outputs": [],
      "source": [
        "%%stata\n",
        "\n",
        "clear *\n",
        "use \"fake_data.dta\", clear"
      ],
      "id": "5496daaf"
    },
    {
      "cell_type": "code",
      "execution_count": 19,
      "metadata": {},
      "outputs": [],
      "source": [
        "%%stata\n",
        "\n",
        "capture drop avg_earnings\n",
        "bysort workerid: egen avg_earnings = mean(earnings)"
      ],
      "id": "7f74ff10"
    },
    {
      "cell_type": "code",
      "execution_count": 20,
      "metadata": {},
      "outputs": [],
      "source": [
        "%%stata\n",
        "\n",
        "capture drop total_earnings\n",
        "bysort workerid: egen total_earnings = total(earnings)"
      ],
      "id": "c6beb30f"
    },
    {
      "cell_type": "markdown",
      "metadata": {},
      "source": [
        "By definition, these commands will create variables that use information\n",
        "across different observations. You can check the list of available\n",
        "functions by writing `help egen` in the Stata command window.\n",
        "\n",
        "In this documentation, we can see that there are some functions that do\n",
        "not allow for `by`. For example, suppose we want to create the total sum\n",
        "across different variables in the same row. We do this below by taking\n",
        "the sum of *start_year*, *region*, and *treated*."
      ],
      "id": "e0dbb965-9675-46af-be0a-e185fc919f6d"
    },
    {
      "cell_type": "code",
      "execution_count": 21,
      "metadata": {},
      "outputs": [],
      "source": [
        "%%stata\n",
        "\n",
        "cap drop sum_of_vars\n",
        "egen sum_of_vars = rowtotal(start_year region treated)"
      ],
      "id": "02f364b0"
    },
    {
      "cell_type": "markdown",
      "metadata": {},
      "source": [
        "The variable we are creating for the example has no particular meaning,\n",
        "but what we need to notice is that the function `rowtotal()` only sums\n",
        "the non-missing values in our variables. This means that if there is a\n",
        "missing value in any of the three variables, the sum only occurs between\n",
        "the two variables that do not have the missing value. We could also\n",
        "write this command as `gen sum_of_vars = start_year + region + treated`;\n",
        "however, if there is a missing value (`.`) in *start_year*, *region*, or\n",
        "*treated*, then the generated value for *sum_of_vars* will also be a\n",
        "missing value. The answer lies in the missing observations. If we sum\n",
        "any number with a missing value (`.`), then the sum will also be missing\n",
        "when using `generate`, but not when using `egen`.\n",
        "\n",
        "Just as with `sort`, we can also use `by` with multiple variables. Doing\n",
        "so tells Stata to run the command over all combinations of subgroups.\n",
        "Here will use *year* and *region* in one command. This tells Stata to\n",
        "generate a new variable for each *year*-*region* combination."
      ],
      "id": "f4ebb8a6-9d79-4d66-9b9d-a6f883cb516a"
    },
    {
      "cell_type": "code",
      "execution_count": 22,
      "metadata": {},
      "outputs": [],
      "source": [
        "%%stata\n",
        "\n",
        "capture drop regionyear_earnings\n",
        "bysort year region : egen regionyear_earnings = total(earnings)"
      ],
      "id": "5de4590c"
    },
    {
      "cell_type": "markdown",
      "metadata": {},
      "source": [
        "What this command gives us is a new variable that records total earnings\n",
        "in each region for every year.\n",
        "\n",
        "## 7.4 Collapsing Data\n",
        "\n",
        "We can also compute statistics at some group level with the `collapse`\n",
        "command. `collapse` is extremely useful whenever we want to apply sample\n",
        "weights to our data (we will learn more about this in [Module\n",
        "11](https://comet.arts.ubc.ca/docs/Research/econ490-pystata/11_Linear_Reg.html)).\n",
        "Sample weights cannot be applied using `egen` but are often extremely\n",
        "important when using micro data. These weights allow us to manipulate\n",
        "our data to better reflect the true composition of the data when the\n",
        "authorities that collected the data might have over-sampled some\n",
        "segments of the population.\n",
        "\n",
        "The syntax is:\n",
        "\n",
        "``` stata\n",
        "collapse (statistic1) new_name = existing_variable (statistic2) new_name2 = existing_variable2 ... [pweight =     weight_variable], by(group) \n",
        "```\n",
        "\n",
        "We can find a full list of possible statistics that `collapse` can take\n",
        "by running the command `help collapse`. We can also learn more about\n",
        "using weights by typing `help weight`.\n",
        "\n",
        "Let’s suppose we want to create a data set at the region-year level\n",
        "using information in the current data set, but we want to use the sample\n",
        "weights that were provided with our data (*sample_weight*). First, we\n",
        "decide which statistics we want to keep from the original data set. For\n",
        "the sake of explanation, let’s suppose we want to keep the average\n",
        "earnings, the variance of earnings, and the total employment. We will\n",
        "have three new variables: *avg_earnings*, *sd_earnings*, *tot_emp*. We\n",
        "write the following:"
      ],
      "id": "30d2a260-bbc6-4fd7-b2cb-984d42f6e46d"
    },
    {
      "cell_type": "code",
      "execution_count": 23,
      "metadata": {},
      "outputs": [],
      "source": [
        "%%stata\n",
        "\n",
        "collapse (mean) avg_earnings = earnings (sd) sd_earnings = earnings (count) tot_emp = earnings [pweight = sample_weight], by(region year)"
      ],
      "id": "3ff9dabb"
    },
    {
      "cell_type": "code",
      "execution_count": 24,
      "metadata": {},
      "outputs": [],
      "source": [
        "%%stata\n",
        "\n",
        "%browse 10"
      ],
      "id": "c8818084"
    },
    {
      "cell_type": "markdown",
      "metadata": {},
      "source": [
        "**Warning:** When we use `collapse`, Stata will produce a new data set\n",
        "with the results, and in the process it drops the data set that was\n",
        "loaded at the time the command was run. If we need to keep the original\n",
        "data, be certain to save the file before running this command.\n",
        "\n",
        "## 7.5 Reshaping\n",
        "\n",
        "We have collapsed our data and so we need to import the data again to\n",
        "gain access to the full data set."
      ],
      "id": "fd010113-6153-4e0e-9672-ba15577d35c6"
    },
    {
      "cell_type": "code",
      "execution_count": 25,
      "metadata": {},
      "outputs": [],
      "source": [
        "%%stata\n",
        "\n",
        "clear *\n",
        "\n",
        "use \"fake_data.dta\", clear"
      ],
      "id": "ba46a70a"
    },
    {
      "cell_type": "markdown",
      "metadata": {},
      "source": [
        "Notice that the nature of this particular data set is panel form;\n",
        "individuals have been followed over many years. Sometimes we are\n",
        "interested in working with a cross section (i.e. we have 1 observation\n",
        "per worker which includes all of the years). Is there a simple way to go\n",
        "back and forth between these two? Yes!\n",
        "\n",
        "The command’s name is `reshape` and has two main forms: `wide` and\n",
        "`long`. `wide` data is cross-sectional in nature, whereas `long` is the\n",
        "usual panel.\n",
        "\n",
        "Suppose we want to record the earnings of workers while keeping the\n",
        "information across years. This entails transforming our panel data into\n",
        "a cross sectional data set. We want one observation per worker, where\n",
        "each observation has all of the years. This is a `wide` transformation."
      ],
      "id": "326ca3b1-0102-406a-abe3-0e14df68d5ab"
    },
    {
      "cell_type": "code",
      "execution_count": 26,
      "metadata": {},
      "outputs": [],
      "source": [
        "%%stata\n",
        "\n",
        "reshape wide earnings region age start_year sample_weight quarter_birth, i(workerid) j(year)"
      ],
      "id": "36a2670b"
    },
    {
      "cell_type": "markdown",
      "metadata": {},
      "source": [
        "**Warning:** This command acts on all of the variables in our data set.\n",
        "If we don’t include them in the list, Stata will assume that they do not\n",
        "vary across *i* (in this case *workerid*). If we don’t check this\n",
        "beforehand, we may get an error message!"
      ],
      "id": "373893f9-e014-4594-9071-056607bc38e5"
    },
    {
      "cell_type": "code",
      "execution_count": 27,
      "metadata": {},
      "outputs": [],
      "source": [
        "%%stata\n",
        "\n",
        "%browse 10"
      ],
      "id": "4e183ac6"
    },
    {
      "cell_type": "markdown",
      "metadata": {},
      "source": [
        "There are so many missing values in the data! Should we worry? Not at\n",
        "all. As a matter of fact, we learned at the beginning of this module\n",
        "that many workers are not observed across all years. That’s what these\n",
        "missing values are representing.\n",
        "\n",
        "Notice that the variable *year* which was part of the command line (the\n",
        "`j(year)` part) has disappeared. We now have one observation per worker,\n",
        "with their information recorded across years in a cross-sectional way.\n",
        "\n",
        "How do we go from a `wide` data set to a regular panel form? We will use\n",
        "the `reshape long` command. Note that to do this, we need to specify the\n",
        "prefix variables. These are formally known as `stubs` in Stata. They are\n",
        "the variables that all share the same prefix (in this case, *year*),\n",
        "that will be transformed into one variable. When we write `j(year)`,\n",
        "Stata will create a new variable called *year*."
      ],
      "id": "f3bace9a-bd0b-4d01-b6a9-039411cc9b07"
    },
    {
      "cell_type": "code",
      "execution_count": 28,
      "metadata": {},
      "outputs": [],
      "source": [
        "%%stata\n",
        "\n",
        "reshape long earnings region age  start_year sample_weight, i(workerid) j(year) "
      ],
      "id": "ea846cee"
    },
    {
      "cell_type": "code",
      "execution_count": 29,
      "metadata": {},
      "outputs": [],
      "source": [
        "%%stata\n",
        "\n",
        "%browse 10"
      ],
      "id": "bc530ecb"
    },
    {
      "cell_type": "markdown",
      "metadata": {},
      "source": [
        "Notice that we now have an observation for every worker in every year,\n",
        "although we know some workers are only observed in a subset of these.\n",
        "This is known as a **balanced panel**.\n",
        "\n",
        "To retrieve the original data set, we get rid of such observations with\n",
        "missing values."
      ],
      "id": "01417476-21de-4652-a4c3-fb8aeacc14b9"
    },
    {
      "cell_type": "code",
      "execution_count": 30,
      "metadata": {},
      "outputs": [],
      "source": [
        "%%stata\n",
        "\n",
        "keep if !missing(earnings)"
      ],
      "id": "eb5df6e6"
    },
    {
      "cell_type": "code",
      "execution_count": 31,
      "metadata": {},
      "outputs": [],
      "source": [
        "%%stata\n",
        "\n",
        "%browse 10"
      ],
      "id": "32ac6e1c"
    },
    {
      "cell_type": "markdown",
      "metadata": {},
      "source": [
        "## 7.6 Errors\n",
        "\n",
        "### 7.6.1. Sort\n",
        "\n",
        "To develop group-compounded variables, we first need to ensure that we\n",
        "sort the observations by the variable. Not sorting the obserations will\n",
        "return an error code."
      ],
      "id": "03debfad-07ab-430b-b24f-61a7eb4b3a20"
    },
    {
      "cell_type": "code",
      "execution_count": 32,
      "metadata": {},
      "outputs": [],
      "source": [
        "%%stata\n",
        "\n",
        "capture drop var\n",
        "by sex: generate var = _n"
      ],
      "id": "3eb89dd3"
    },
    {
      "cell_type": "markdown",
      "metadata": {},
      "source": [
        "The correct method of of generating compounded variables is below:"
      ],
      "id": "cca97092-1873-4cbc-91f2-1f79c483309b"
    },
    {
      "cell_type": "code",
      "execution_count": 33,
      "metadata": {},
      "outputs": [],
      "source": [
        "%%stata\n",
        "\n",
        "capture drop var\n",
        "bysort sex: generate var = _n"
      ],
      "id": "c05c99ae"
    },
    {
      "cell_type": "markdown",
      "metadata": {},
      "source": [
        "Take a look at it below:"
      ],
      "id": "bb533c16-21ee-4e14-9c7c-177f51fe5850"
    },
    {
      "cell_type": "code",
      "execution_count": 34,
      "metadata": {},
      "outputs": [],
      "source": [
        "%%stata\n",
        "\n",
        "summarize var"
      ],
      "id": "38bd2366"
    },
    {
      "cell_type": "markdown",
      "metadata": {},
      "source": [
        "### 7.6.2. Reshape Error\n",
        "\n",
        "Reshaping data can be tricky and doing so incorrectly can cause many\n",
        "variables to be dropped in the proccess. The command `reshape error` can\n",
        "be used to identify the issues encountered when reshaping data."
      ],
      "id": "c8a652d2-2c16-4676-8173-d4eb279c4c1f"
    },
    {
      "cell_type": "code",
      "execution_count": 35,
      "metadata": {},
      "outputs": [],
      "source": [
        "%%stata\n",
        "\n",
        "clear *\n",
        "use \"fake_data.dta\", clear"
      ],
      "id": "119ac755"
    },
    {
      "cell_type": "code",
      "execution_count": 36,
      "metadata": {},
      "outputs": [],
      "source": [
        "%%stata\n",
        "\n",
        "reshape wide earnings sex, i(year) j(workerid)"
      ],
      "id": "4189b038"
    },
    {
      "cell_type": "code",
      "execution_count": 37,
      "metadata": {},
      "outputs": [],
      "source": [
        "%%stata\n",
        "\n",
        "reshape error"
      ],
      "id": "e47217ef"
    },
    {
      "cell_type": "markdown",
      "metadata": {},
      "source": [
        "Can you tell what the error is here?\n",
        "\n",
        "## 7.7 Wrap Up\n",
        "\n",
        "In this module, we have covered some very useful skills that will be\n",
        "useful for exploring data sets. Namely, these skills will help us both\n",
        "prepare data for empirical analysis (i.e. turning cross sectional data\n",
        "into panel data) and create summary statistics that illustrate our\n",
        "results. In the next module, we will look at how to work with multiple\n",
        "data sets simultaneously and merge them into one.\n",
        "\n",
        "## 7.8 Wrap-up Table\n",
        "\n",
        "| Command      | Function                                                                |\n",
        "|----------------------------------|--------------------------------------|\n",
        "| `by`         | It is a pre-command used to Repeat Stata command on subsets of the data |\n",
        "| `generate`   | It generates variables                                                  |\n",
        "| `sort`       | It sorts data                                                           |\n",
        "| `summary`    | It summarizes statistics of a data set                                  |\n",
        "| `_n`         | It records the observation number                                       |\n",
        "| `_N`         | It records the total number of observations for each group separately   |\n",
        "| `drop`       | It drops variables or observations                                      |\n",
        "| `keep`       | It keeps variables or observations that satisfy a specified condition   |\n",
        "| `egenerate`  | It create variables that require access to some functions               |\n",
        "| `rowtotal()` | It sums non-missing values for each observation of a list of variables  |\n",
        "| `collapse`   | It makes a data set of a summary of statistics                          |\n",
        "| `reshape`    | It converts data from wide to long and vice versa                       |\n",
        "\n",
        "## References\n",
        "\n",
        "[Reshape data from wide format to long\n",
        "format](https://www.youtube.com/watch?v=Bx9kVdkr9oY) <br> [(Non\n",
        "StataCorp) How to group data in STATA with SORT and\n",
        "BY](https://www.youtube.com/watch?v=nEOyH0AFKHc) [Syntax for\n",
        "pre-commands](https://www.stata.com/manuals/u11.pdf)"
      ],
      "id": "01ffa95f-836e-4f1d-8bab-a11fb4ece05c"
    }
  ],
  "nbformat": 4,
  "nbformat_minor": 5,
  "metadata": {
    "kernelspec": {
      "name": "python3",
      "display_name": "Python 3 (ipykernel)",
      "language": "python"
    },
    "language_info": {
      "name": "python",
      "codemirror_mode": {
        "name": "ipython",
        "version": "3"
      },
      "file_extension": ".py",
      "mimetype": "text/x-python",
      "nbconvert_exporter": "python",
      "pygments_lexer": "ipython3",
      "version": "3.10.12"
    }
  }
}