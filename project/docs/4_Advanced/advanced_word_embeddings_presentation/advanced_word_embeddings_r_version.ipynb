{
  "cells": [
    {
      "cell_type": "raw",
      "metadata": {},
      "source": [
        "---\n",
        "title: \"4.4 - Advanced - Word Embeddings (R)\"\n",
        "description: This notebook introduces the concept and implementation of word embeddings, as used in AI tools like LLMs, in R.\n",
        "categories: [advanced, R, natural language processing, large language models, word embeddings, word2vec, vectors, cosine similarity]\n",
        "format: \n",
        "  html: default\n",
        "  ipynb:\n",
        "    jupyter:\n",
        "      kernelspec:\n",
        "        display_name: R\n",
        "        language: r\n",
        "        name: ir\n",
        "---"
      ]
    },
    {
      "cell_type": "markdown",
      "metadata": {},
      "source": [
        "_R Version_\n",
        "\n",
        "<img src=\"media/word_embedding_cover_art.png\" width=\"1000\"/>\n",
        "\n",
        "_This notebook was prepared by Laura Nelson in collaboration with [UBC COMET](https://comet.arts.ubc.ca/) team members: Jonathan Graves, Angela Chen and Anneke Dresselhuis_\n",
        "\n",
        "\n",
        "## Prerequisites\n",
        "\n",
        "1. Some familiarity programming in R\n",
        "2. Some familarity with natural language processing\n",
        "3. No computational text experience necessary!\n",
        "\n",
        "## Learning outcomes\n",
        "\n",
        "In the notebook you will \n",
        "\n",
        "1. Familiarize yourself with concepts such as word embeddings (WE) vector-space model of language, natural language processing (NLP) and how they relate to small and large language models (LMs) \n",
        "1. Import and pre-process a textual dataset for use in word embedding \n",
        "1. Use word2vec to build a simple language model for examining patterns and biases textual datasets\n",
        "1. Identify and select methods for saving and loading models\n",
        "1. Use critical and reflexive thinking to gain a deeper understanding of how the inherent social and cultural biases of language are reproduced and mapped into language computation models\n",
        "\n",
        "## Outline\n",
        "\n",
        "The goal of this notebook is to demystify some of the technical aspects of language models and to invite learners to start thinking about how these important tools function in society.\n",
        "\n",
        "In particular, this lesson is designed to explore features of word embeddings produced through the word2vec model. The questions we ask in this lesson are guided by Ben Schmidt's blog post, [Rejecting the Gender Binary](\"http://bookworm.benschmidt.org/posts/2015-10-30-rejecting-the-gender-binary.html\").\n",
        "\n",
        "The primary corpus we will use consists of the <a href=\"http://txtlab.org/?p=601\">150 English-language novels</a> made available by the <em>.txtLab</em> at McGill University. We also look at a <a href=\"http://ryanheuser.org/word-vectors-1/\">Word2Vec model trained on the ECCO-TCP corpus</a> of 2,350 eighteenth-century literary texts made available by Ryan Heuser. (Note that the number of terms in the model has been shortened by half in order to conserve memory.)\n",
        "\n",
        "## Key Terms\n",
        "Before we dive in, feel free to familiarize yourself with the following key terms and how they relate to each other.\n",
        "</div>\n",
        "<img src=\"media/ai_key_terms.png\" width=\"500\"/>\n",
        "</div>\n",
        "\n",
        "**Artificial Intelligence (AI):** this term is a broad category that includes the study and development of computer systems that can copy intelligent human behaviour (adapted from [_Oxford Learners Dictionary_](https://www.oxfordlearnersdictionaries.com/definition/english/ai#:~:text=%2F%CB%8Ce%C9%AA%20%CB%88a%C9%AA%2F-,%2F%CB%8Ce%C9%AA%20%CB%88a%C9%AA%2F,way%20a%20human%20brain%20does.))\n",
        "\n",
        "**Machine Learning (ML):** this is branch of AI which is uses statistical methods to imitate the way that humans learn (adapted from [_IBM_](https://www.ibm.com/topics/machine-learning))\n",
        "\n",
        "**Natural Language Processing (NLP):** this is branch of AI which focuses on training computers to interpret human text and spoken words (adapted from [_IBM_](https://www.ibm.com/topics/natural-language-processing#:~:text=the%20next%20step-,What%20is%20natural%20language%20processing%3F,same%20way%20human%20beings%20can.))\n",
        "\n",
        "**Word Embeddings (WE):** this is an NLP process through which human words are converted into numerical representations (usually vectors) in order for computers to be able to understand them (adapted from [_Turing_](https://www.turing.com/kb/guide-on-word-embeddings-in-nlp))\n",
        "\n",
        "**word2vec:** this is an NLP technique that is commonly used to generate word embeddings\n",
        "\n",
        "\n",
        "\n",
        "## What are Word Embeddings?\n",
        "\n",
        "Building off of the definition above, word embeddings are one way that humans can represent language in a way that is legible to a machine. More specifically, they are an NLP approach that use vectors to store textual data in multiple dimensions; by existing in the multi-dimensional space of vectors, word embeddings are able to include important semantic information within a given numeric representation.\n",
        "\n",
        "For example, if we are trying to answer a research question about how popular a term is on the web at a given time, we might use a simple word frequency analysis to count how many times the word \"candidate\" shows up in tweets during a defined electoral period. However, if we wanted to gain a more nuanced understanding of what kind of language, biases or attitudes contextualize the term, \"candidate\" in discourse, we would need to use a method like word embedding to encode meaning into our understanding of how people have talked about candidates over time. Instead of describing our text as a series of word counts, we would treat our text like coordinates in space, where similar words and concepts are closer to each other, and words that are different from each other are further away.\n",
        "\n",
        "![Comparing word frequency count and word embedding methods](media/word_frequency_vs_word_embeddings.png)\n",
        "\n",
        "For example, in the visualization above, a word frequency count returns the number of times the word \"candidate\" or \"candidates\" is used in a sample text corpus. When a word embedding is made from the same text corpus, we are able to map related concepts and phrases that are closely related to \"candidate\" as neighbours, while other words and phrases such as \"experimental study\" (which refers to the research paper in question, and not to candidates specifically) are further away. \n",
        "\n",
        "Here is another example of how different, but related words might be represented in a word embedding:\n",
        "<img src = \"media/w2v-Analogies.png\">\n",
        "\n",
        "## Making a Word Embedding\n",
        "So, how do word embeddings work? To make a word embedding, an input word gets compressed into a dense vector.\n",
        "\n",
        "![Creating a word embedding vector](media/creating_a_word_embedding.png)\n",
        "\n",
        "The magic and mystery of the word embedding process is that often the vectors produced during the model embed qualities of a word or phrase that are not interpretable by humans. However, for our purposes, having the text in vector format is all we need. With this format, we can perform tests like cosine similarity and other kinds of operations. Such operations can reveal many different kinds of relationships between words, as we'll examine a bit later.\n",
        "\n",
        "## Using word2vec\n",
        "\n",
        "Word2vec is one NLP technique that is commonly used to generate word embeddings. More precisely, word2vec is an algorithmic learning tool rather than a specific neural net that is already trained. The example we will be working through today has been made using this tool.\n",
        "\n",
        "The series of algorithms inside of the word2vec model try to describe and acquire parameters for a given word in terms of the text that appear immediately to the right and left in actual sentences. Essentially, it learns how to predict text.\n",
        "\n",
        "Without going too deep into the algorithm, suffice it to say that it involves a two-step process: \n",
        "\n",
        "1. First, the input word gets compressed into a dense vector, as seen in the simplified diagram, \"Creating a Word Embedding,\" above. \n",
        "2. Second, the vector gets decoded into the set of context words. Keywords that appear within similar contexts will have similar vector representations in between steps. \n",
        "\n",
        "Imagine that each word in a novel has its meaning determined by the ones that surround it in a limited window. For example, in Moby Dick's first sentence, “me” is paired on either side by “Call” and “Ishmael.” After observing the windows around every word in the novel (or many novels), the computer will notice a pattern in which “me” falls between similar pairs of words to “her,” “him,” or “them.” Of course, the computer had gone through a similar process over the words “Call” and “Ishmael,” for which “me” is reciprocally part of their contexts. This chaining of signifiers to one another mirrors some of humanists' most sophisticated interpretative frameworks of language.\n",
        "\n",
        "The two main model architectures of word2vec are **Continuous Bag of Words (CBOW)** and **Skip-Gram**, which can be distinguished partly by their input and output during training. \n",
        "\n",
        "**CBOW** takes the context words (for example, \"Call\",\"Ishmael\") as a single input and tries to predict the word of interest (\"me\").\n",
        "\n",
        "<div>\n",
        "<img src=\"media/CBOW.gif\" width=\"500\"/>\n",
        "</div>\n",
        "\n",
        "**Skip-Gram** does the opposite, taking a word of interest as its input (for example, \"me\") and tries to learn how to predict its context words (\"Call\",\"Ishmael\"). \n",
        "\n",
        "<div>\n",
        "<img src=\"media/SG.gif\" width=\"500\"/>\n",
        "</div>\n",
        "\n",
        "In general, CBOW is is faster and does well with frequent words, while Skip-Gram potentially represents rare words better.\n",
        "\n",
        "Since the word embedding is a vector, we are able perform tests like cosine similarity (which we'll learn more about in a bit!) and other kinds of operations. Those operations can reveal many different kinds of relationships between words, as we shall see.\n",
        "\n",
        "## Bias and Language Models\n",
        "\n",
        "You might already be piecing together that the encoding of meaning in word embeddings is entirely shaped by patterns of language use captured in the training data. That is, what is included in a word embedding directly reflects the complex social and cultural biases of everyday human language - in fact, exploring how these biases function and change over time (as we will do later) is one of the most interesting ways to use word embeddings in social research.\n",
        "\n",
        "#### It is simply impossible to have a bias-free language model (LM). \n",
        "\n",
        "In LMs, bias is not a bug or a glitch, rather, it is an essential feature that is baked into the fundamental structure. For example, LMs are not outside of learning and absorbing the pejorative dimensions of language which in turn, can result in reproducing harmful correlations of meaning for words about race, class or gender (among others). When unchecked, these harms can be “amplified in downstream applications of word embeddings” ([Arseniev-Koehler & Foster, 2020, p. 1](https://osf.io/preprints/socarxiv/b8kud/)).\n",
        "\n",
        "Just like any other computational model, it is important to critically engage with the source and context of the training data. One way that [Schiffers, Kern and Hienert](https://arxiv.org/abs/2302.06174v1) suggest doing this is by using domain specific models (2023). Working with models that understand the nuances of your particular topic or field can better account for \"specialized vocabulary and semantic relationships\" that can help make applications of WE more effective. \n",
        "\n",
        "## Preparing for our Analysis\n",
        "\n",
        "#### Word2vec Features\n",
        "\n",
        "**Here are a few features of the word2vec tool that we can use to customize our analysis:**\n",
        "\n",
        "* `size`: Number of dimensions for word embedding model</li>\n",
        "* `window`: Number of context words to observe in each direction</li>\n",
        "* `min_count`: Minimum frequency for words included in model</li>\n",
        "* `sg` (Skip-Gram): '0' indicates CBOW model; '1' indicates Skip-Gram</li>\n",
        "* `alpha`: Learning rate (initial); prevents model from over-correcting, enables finer tuning</li>\n",
        "* `iterations`: Number of passes through dataset</li>\n",
        "* `batch size`: Number of words to sample from data during each pass</li>\n",
        "\n",
        "Note: the script uses default value for each argument.\n",
        "\n",
        "**Some limitations of the word2vec Model**\n",
        "\n",
        "* Within word2vec, common articles or conjunctions, called **stop words** such as \"the\" and \"and,\" may not provide very rich contextual information for a given word, and may need additional subsampling or to be combined into a word phrase (Anwla, 2019).\n",
        "* Word2vec isn't always the best at handling out-of-vocabulary words well (Chandran, 2021).\n",
        "\n",
        "Let's begin our analysis!\n",
        "\n",
        "## Exercise #1: Eggs, Sausages and Bacon\n",
        "<div>\n",
        "<img src=\"media/eggs_bacon_sausages.png\" width=\"750\"/>\n",
        "<div>\n",
        "\n",
        "To begin, we are going to install and load a few packages that are necessary for our analysis. Run the code cells below if these packages are not already installed:"
      ]
    },
    {
      "cell_type": "code",
      "execution_count": 10,
      "metadata": {
        "tags": [],
        "vscode": {
          "languageId": "r"
        }
      },
      "outputs": [
        {
          "name": "stderr",
          "output_type": "stream",
          "text": [
            "Warning message:\n",
            "“dependency ‘evaluate’ is not available”also installing the dependencies ‘fastmap’, ‘bit’, ‘cachem’, ‘farver’, ‘fs’, ‘rappdirs’, ‘bit64’, ‘processx’, ‘xfun’, ‘lifecycle’, ‘memoise’, ‘blob’, ‘glue’, ‘tidyselect’, ‘vctrs’, ‘data.table’, ‘isoband’, ‘scales’, ‘gargle’, ‘rematch2’, ‘timechange’, ‘systemfonts’, ‘textshaping’, ‘vroom’, ‘tzdb’, ‘progress’, ‘callr’, ‘knitr’, ‘stringi’, ‘broom’, ‘conflicted’, ‘cli’, ‘dbplyr’, ‘dplyr’, ‘dtplyr’, ‘forcats’, ‘ggplot2’, ‘googledrive’, ‘googlesheets4’, ‘haven’, ‘hms’, ‘jsonlite’, ‘lubridate’, ‘magrittr’, ‘modelr’, ‘pillar’, ‘purrr’, ‘ragg’, ‘readr’, ‘readxl’, ‘reprex’, ‘rlang’, ‘rvest’, ‘stringr’, ‘tibble’, ‘tidyr’, ‘xml2’\n",
            "\n",
            "Warning message in install.packages(\"tidyverse\"):\n",
            "“installation of package ‘fastmap’ had non-zero exit status”Warning message in install.packages(\"tidyverse\"):\n",
            "“installation of package ‘bit’ had non-zero exit status”Warning message in install.packages(\"tidyverse\"):\n",
            "“installation of package ‘farver’ had non-zero exit status”Warning message in install.packages(\"tidyverse\"):\n",
            "“installation of package ‘fs’ had non-zero exit status”Warning message in install.packages(\"tidyverse\"):\n",
            "“installation of package ‘rappdirs’ had non-zero exit status”Warning message in install.packages(\"tidyverse\"):\n",
            "“installation of package ‘processx’ had non-zero exit status”Warning message in install.packages(\"tidyverse\"):\n",
            "“installation of package ‘xfun’ had non-zero exit status”Warning message in install.packages(\"tidyverse\"):\n",
            "“installation of package ‘glue’ had non-zero exit status”Warning message in install.packages(\"tidyverse\"):\n",
            "“installation of package ‘data.table’ had non-zero exit status”Warning message in install.packages(\"tidyverse\"):\n",
            "“installation of package ‘isoband’ had non-zero exit status”Warning message in install.packages(\"tidyverse\"):\n",
            "“installation of package ‘timechange’ had non-zero exit status”Warning message in install.packages(\"tidyverse\"):\n",
            "“installation of package ‘tzdb’ had non-zero exit status”Warning message in install.packages(\"tidyverse\"):\n",
            "“installation of package ‘stringi’ had non-zero exit status”Warning message in install.packages(\"tidyverse\"):\n",
            "“installation of package ‘cli’ had non-zero exit status”Warning message in install.packages(\"tidyverse\"):\n",
            "“installation of package ‘jsonlite’ had non-zero exit status”Warning message in install.packages(\"tidyverse\"):\n",
            "“installation of package ‘magrittr’ had non-zero exit status”Warning message in install.packages(\"tidyverse\"):\n",
            "“installation of package ‘rlang’ had non-zero exit status”Warning message in install.packages(\"tidyverse\"):\n",
            "“installation of package ‘cachem’ had non-zero exit status”Warning message in install.packages(\"tidyverse\"):\n",
            "“installation of package ‘bit64’ had non-zero exit status”Warning message in install.packages(\"tidyverse\"):\n",
            "“installation of package ‘lifecycle’ had non-zero exit status”Warning message in install.packages(\"tidyverse\"):\n",
            "“installation of package ‘callr’ had non-zero exit status”Warning message in install.packages(\"tidyverse\"):\n",
            "“installation of package ‘knitr’ had non-zero exit status”Warning message in install.packages(\"tidyverse\"):\n",
            "“installation of package ‘lubridate’ had non-zero exit status”Warning message in install.packages(\"tidyverse\"):\n",
            "“installation of package ‘xml2’ had non-zero exit status”Warning message in install.packages(\"tidyverse\"):\n",
            "“installation of package ‘memoise’ had non-zero exit status”Warning message in install.packages(\"tidyverse\"):\n",
            "“installation of package ‘vctrs’ had non-zero exit status”Warning message in install.packages(\"tidyverse\"):\n",
            "“installation of package ‘scales’ had non-zero exit status”Warning message in install.packages(\"tidyverse\"):\n",
            "“installation of package ‘gargle’ had non-zero exit status”Warning message in install.packages(\"tidyverse\"):\n",
            "“installation of package ‘systemfonts’ had non-zero exit status”Warning message in install.packages(\"tidyverse\"):\n",
            "“installation of package ‘reprex’ had non-zero exit status”Warning message in install.packages(\"tidyverse\"):\n",
            "“installation of package ‘blob’ had non-zero exit status”Warning message in install.packages(\"tidyverse\"):\n",
            "“installation of package ‘tidyselect’ had non-zero exit status”Warning message in install.packages(\"tidyverse\"):\n",
            "“installation of package ‘textshaping’ had non-zero exit status”Warning message in install.packages(\"tidyverse\"):\n",
            "“installation of package ‘conflicted’ had non-zero exit status”Warning message in install.packages(\"tidyverse\"):\n",
            "“installation of package ‘hms’ had non-zero exit status”Warning message in install.packages(\"tidyverse\"):\n",
            "“installation of package ‘pillar’ had non-zero exit status”Warning message in install.packages(\"tidyverse\"):\n",
            "“installation of package ‘purrr’ had non-zero exit status”Warning message in install.packages(\"tidyverse\"):\n",
            "“installation of package ‘stringr’ had non-zero exit status”Warning message in install.packages(\"tidyverse\"):\n",
            "“installation of package ‘progress’ had non-zero exit status”Warning message in install.packages(\"tidyverse\"):\n",
            "“installation of package ‘ragg’ had non-zero exit status”Warning message in install.packages(\"tidyverse\"):\n",
            "“installation of package ‘tibble’ had non-zero exit status”Warning message in install.packages(\"tidyverse\"):\n",
            "“installation of package ‘rematch2’ had non-zero exit status”Warning message in install.packages(\"tidyverse\"):\n",
            "“installation of package ‘vroom’ had non-zero exit status”Warning message in install.packages(\"tidyverse\"):\n",
            "“installation of package ‘dplyr’ had non-zero exit status”Warning message in install.packages(\"tidyverse\"):\n",
            "“installation of package ‘forcats’ had non-zero exit status”Warning message in install.packages(\"tidyverse\"):\n",
            "“installation of package ‘ggplot2’ had non-zero exit status”Warning message in install.packages(\"tidyverse\"):\n",
            "“installation of package ‘googledrive’ had non-zero exit status”Warning message in install.packages(\"tidyverse\"):\n",
            "“installation of package ‘readxl’ had non-zero exit status”Warning message in install.packages(\"tidyverse\"):\n",
            "“installation of package ‘rvest’ had non-zero exit status”Warning message in install.packages(\"tidyverse\"):\n",
            "“installation of package ‘dtplyr’ had non-zero exit status”Warning message in install.packages(\"tidyverse\"):\n",
            "“installation of package ‘googlesheets4’ had non-zero exit status”Warning message in install.packages(\"tidyverse\"):\n",
            "“installation of package ‘readr’ had non-zero exit status”Warning message in install.packages(\"tidyverse\"):\n",
            "“installation of package ‘tidyr’ had non-zero exit status”Warning message in install.packages(\"tidyverse\"):\n",
            "“installation of package ‘broom’ had non-zero exit status”Warning message in install.packages(\"tidyverse\"):\n",
            "“installation of package ‘dbplyr’ had non-zero exit status”Warning message in install.packages(\"tidyverse\"):\n",
            "“installation of package ‘haven’ had non-zero exit status”Warning message in install.packages(\"tidyverse\"):\n",
            "“installation of package ‘modelr’ had non-zero exit status”Warning message in install.packages(\"tidyverse\"):\n",
            "“installation of package ‘tidyverse’ had non-zero exit status”Updating HTML index of packages in '.Library'\n",
            "Making 'packages.html' ... done\n",
            "also installing the dependencies ‘cli’, ‘lifecycle’, ‘rlang’, ‘vctrs’, ‘pillar’\n",
            "\n",
            "Warning message in install.packages(\"repr\"):\n",
            "“installation of package ‘cli’ had non-zero exit status”Warning message in install.packages(\"repr\"):\n",
            "“installation of package ‘rlang’ had non-zero exit status”Warning message in install.packages(\"repr\"):\n",
            "“installation of package ‘lifecycle’ had non-zero exit status”Warning message in install.packages(\"repr\"):\n",
            "“installation of package ‘vctrs’ had non-zero exit status”Warning message in install.packages(\"repr\"):\n",
            "“installation of package ‘pillar’ had non-zero exit status”Warning message in install.packages(\"repr\"):\n",
            "“installation of package ‘repr’ had non-zero exit status”Updating HTML index of packages in '.Library'\n",
            "Making 'packages.html' ... done\n",
            "Warning message in install.packages(\"proxy\"):\n",
            "“installation of package ‘proxy’ had non-zero exit status”Updating HTML index of packages in '.Library'\n",
            "Making 'packages.html' ... done\n",
            "also installing the dependencies ‘cli’, ‘farver’, ‘lifecycle’, ‘rlang’\n",
            "\n",
            "Warning message in install.packages(\"scales\"):\n",
            "“installation of package ‘cli’ had non-zero exit status”Warning message in install.packages(\"scales\"):\n",
            "“installation of package ‘farver’ had non-zero exit status”Warning message in install.packages(\"scales\"):\n",
            "“installation of package ‘rlang’ had non-zero exit status”Warning message in install.packages(\"scales\"):\n",
            "“installation of package ‘lifecycle’ had non-zero exit status”Warning message in install.packages(\"scales\"):\n",
            "“installation of package ‘scales’ had non-zero exit status”Updating HTML index of packages in '.Library'\n",
            "Making 'packages.html' ... done\n",
            "also installing the dependency ‘slam’\n",
            "\n",
            "Warning message in install.packages(\"tm\"):\n",
            "“installation of package ‘slam’ had non-zero exit status”Warning message in install.packages(\"tm\"):\n",
            "“installation of package ‘tm’ had non-zero exit status”Updating HTML index of packages in '.Library'\n",
            "Making 'packages.html' ... done\n",
            "Warning message:\n",
            "“package ‘MASS’ is not available (for R version 3.6.1)”also installing the dependencies ‘cli’, ‘farver’, ‘pillar’, ‘slam’, ‘tau’, ‘lars’, ‘isoband’, ‘lifecycle’, ‘rlang’, ‘scales’, ‘tibble’, ‘vctrs’, ‘tm’, ‘ngramrr’, ‘stringdist’, ‘spikeslab’, ‘ggplot2’\n",
            "\n",
            "Warning message in install.packages(\"SentimentAnalysis\"):\n",
            "“installation of package ‘cli’ had non-zero exit status”Warning message in install.packages(\"SentimentAnalysis\"):\n",
            "“installation of package ‘farver’ had non-zero exit status”Warning message in install.packages(\"SentimentAnalysis\"):\n",
            "“installation of package ‘slam’ had non-zero exit status”Warning message in install.packages(\"SentimentAnalysis\"):\n",
            "“installation of package ‘tau’ had non-zero exit status”Warning message in install.packages(\"SentimentAnalysis\"):\n",
            "“installation of package ‘lars’ had non-zero exit status”Warning message in install.packages(\"SentimentAnalysis\"):\n",
            "“installation of package ‘isoband’ had non-zero exit status”Warning message in install.packages(\"SentimentAnalysis\"):\n",
            "“installation of package ‘rlang’ had non-zero exit status”Warning message in install.packages(\"SentimentAnalysis\"):\n",
            "“installation of package ‘stringdist’ had non-zero exit status”Warning message in install.packages(\"SentimentAnalysis\"):\n",
            "“installation of package ‘lifecycle’ had non-zero exit status”Warning message in install.packages(\"SentimentAnalysis\"):\n",
            "“installation of package ‘tm’ had non-zero exit status”Warning message in install.packages(\"SentimentAnalysis\"):\n",
            "“installation of package ‘spikeslab’ had non-zero exit status”Warning message in install.packages(\"SentimentAnalysis\"):\n",
            "“installation of package ‘scales’ had non-zero exit status”Warning message in install.packages(\"SentimentAnalysis\"):\n",
            "“installation of package ‘vctrs’ had non-zero exit status”Warning message in install.packages(\"SentimentAnalysis\"):\n",
            "“installation of package ‘ngramrr’ had non-zero exit status”Warning message in install.packages(\"SentimentAnalysis\"):\n",
            "“installation of package ‘pillar’ had non-zero exit status”Warning message in install.packages(\"SentimentAnalysis\"):\n",
            "“installation of package ‘tibble’ had non-zero exit status”Warning message in install.packages(\"SentimentAnalysis\"):\n",
            "“installation of package ‘ggplot2’ had non-zero exit status”Warning message in install.packages(\"SentimentAnalysis\"):\n",
            "“installation of package ‘SentimentAnalysis’ had non-zero exit status”Updating HTML index of packages in '.Library'\n",
            "Making 'packages.html' ... done\n",
            "also installing the dependencies ‘Rcpp’, ‘RcppTOML’, ‘png’, ‘rappdirs’\n",
            "\n",
            "Warning message in install.packages(\"reticulate\"):\n",
            "“installation of package ‘Rcpp’ had non-zero exit status”Warning message in install.packages(\"reticulate\"):\n",
            "“installation of package ‘png’ had non-zero exit status”Warning message in install.packages(\"reticulate\"):\n",
            "“installation of package ‘rappdirs’ had non-zero exit status”Warning message in install.packages(\"reticulate\"):\n",
            "“installation of package ‘RcppTOML’ had non-zero exit status”Warning message in install.packages(\"reticulate\"):\n",
            "“installation of package ‘reticulate’ had non-zero exit status”Updating HTML index of packages in '.Library'\n",
            "Making 'packages.html' ... done\n"
          ]
        }
      ],
      "source": [
        "# uncomment these by deleting the \"#\" to install them\n",
        "\n",
        "install.packages(\"tidyverse\")\n",
        "install.packages(\"repr\")\n",
        "install.packages(\"proxy\")\n",
        "install.packages(\"scales\")\n",
        "install.packages(\"tm\")\n",
        "install.packages(\"MASS\")\n",
        "install.packages(\"SentimentAnalysis\")\n",
        "install.packages(\"reticulate\")"
      ]
    },
    {
      "cell_type": "code",
      "execution_count": 11,
      "metadata": {
        "tags": [],
        "vscode": {
          "languageId": "r"
        }
      },
      "outputs": [
        {
          "ename": "ERROR",
          "evalue": "Error in library(proxy): there is no package called ‘proxy’\n",
          "output_type": "error",
          "traceback": [
            "Error in library(proxy): there is no package called ‘proxy’\nTraceback:\n",
            "1. library(proxy)"
          ]
        }
      ],
      "source": [
        "# Load the required libraries\n",
        "library(tidyverse)\n",
        "library(repr)\n",
        "library(proxy)\n",
        "library(tm)\n",
        "library(scales)\n",
        "library(MASS)\n",
        "\n",
        "\n",
        "# Set up figures to save properly\n",
        "options(jupyter.plot_mimetypes = \"image/png\") "
      ]
    },
    {
      "cell_type": "code",
      "execution_count": 9,
      "metadata": {
        "vscode": {
          "languageId": "r"
        }
      },
      "outputs": [
        {
          "ename": "ERROR",
          "evalue": "Error in library(reticulate): there is no package called ‘reticulate’\n",
          "output_type": "error",
          "traceback": [
            "Error in library(reticulate): there is no package called ‘reticulate’\nTraceback:\n",
            "1. library(reticulate)"
          ]
        }
      ],
      "source": [
        "# Time: 30s\n",
        "library(reticulate)\n",
        "gensim <- import(\"gensim\")"
      ]
    },
    {
      "cell_type": "markdown",
      "metadata": {},
      "source": [
        "#### Create a Document-Term Matrix (DTM) with a Few Pseudo-Texts\n",
        "To start off, we're going to create a mini dataframe based on the use of the words \"eggs,\" \"sausages\" and \"bacon\" found in three different novels: A, B and C."
      ]
    },
    {
      "cell_type": "code",
      "execution_count": null,
      "metadata": {
        "tags": [],
        "vscode": {
          "languageId": "r"
        }
      },
      "outputs": [],
      "source": [
        "# Construct dataframe\n",
        "columns <- c('eggs', 'sausage', 'bacon')\n",
        "indices <- c('Novel A', 'Novel B', 'Novel C')\n",
        "dtm <- data.frame(eggs = c(50, 90, 20),\n",
        "                  sausage = c(60, 10, 70),\n",
        "                  bacon = c(60, 10, 70),\n",
        "                  row.names = indices)\n",
        "\n",
        "# Show dataframe\n",
        "print(dtm)"
      ]
    },
    {
      "cell_type": "markdown",
      "metadata": {},
      "source": [
        "#### Visualize"
      ]
    },
    {
      "cell_type": "code",
      "execution_count": null,
      "metadata": {
        "tags": [],
        "vscode": {
          "languageId": "r"
        }
      },
      "outputs": [],
      "source": [
        "# Then, we'll create the scatter plot of our data using ggplot2\n",
        "ggplot(dtm, aes(x = eggs, y = sausage)) +\n",
        "  geom_point() +\n",
        "  geom_text(aes(label = rownames(dtm)), nudge_x = 2, nudge_y = 2, size = 3) +\n",
        "  xlim(0, 100) +\n",
        "  ylim(0, 100) +\n",
        "  labs(x = \"eggs\", y = \"sausage\")"
      ]
    },
    {
      "cell_type": "markdown",
      "metadata": {},
      "source": [
        "### Vectors\n",
        "\n",
        "At a glance, a couple of points are lying closer to one another. We used the word frequencies of just two words in order to plot our texts in a two-dimensional plane. The term frequency \"summaries\" of <i>Novel A</i> & <i>Novel C</i> are pretty similar to one another: they both share a major concern with \"sausage\", whereas <i>Novel B</i> seems to focus primarily on \"eggs.\"\n",
        "\n",
        "This raises a question: how can we operationalize our intuition that spatial distance expresses topical similarity?\n",
        "\n",
        "## Cosine Similarity\n",
        "The most common measurement of distance between points is their [Cosine Similarity](https://en.wikipedia.org/wiki/Cosine_similarity). Cosine similarity can operate on textual data that contain word vectors and allows us to identify how similar documents are to each other, for example. Cosine Similarity thus helps us understand how much content overlap a set of documents have with one another. For example, imagine that we were to draw an arrow from the origin of the graph - point (0,0) - to the dot representing each text. This arrow is called a _vector_. \n",
        "\n",
        "Mathematically, this can be represented as: \n",
        "<div>\n",
        "<img src='media/Dot-Product.png' >\n",
        "\n",
        "Using our example above, we can see that the angle from (0,0) between Novel C and Novel A (orange triangle) is smaller than between Novel A and Novel B (navy triangle) or between Novel C and Novel B (both triangles together).\n",
        "<div>\n",
        "<img src=\"media/annotated_scatterplot.png\" width=\"400\"/>\n",
        "<div>\n",
        "\n",
        "Because this similarity measurement uses the cosine of the angle between vectors, the magnitude is not a matter of concern (this feature is really helpful for text vectors that can often be really long!). Instead, the output of cosine similarity yields a value between 0 and 1 (we don't have to work with something confusing like 18º!) that can be easily interpreted and compared - and thus we can also avoid the troubles associated with other dimensional distance measures such as [Euclidean Distance](https://en.wikipedia.org/wiki/Euclidean_distance).\n",
        "\n",
        "### Calculating Cosine Distance"
      ]
    },
    {
      "cell_type": "code",
      "execution_count": null,
      "metadata": {
        "tags": [],
        "vscode": {
          "languageId": "r"
        }
      },
      "outputs": [],
      "source": [
        "# Assuming dtm_df is a data frame containing the document-term matrix\n",
        "dtm_matrix <- as.matrix(dtm)\n",
        "\n",
        "# Calculate cosine similarity\n",
        "cos_sim <- proxy::dist(dtm_matrix, method = \"cosine\")\n",
        "\n",
        "\n",
        "# Although we want the Cosine Distance, it is mathematically simpler to calculate its opposite: Cosine Similarity\n",
        "# The formula for Cosine Distance is = 1 - Cosine Similarity\n",
        "\n",
        "# Convert the cosine similarity matrix to a 2-dimensional array\n",
        "# So we will subtract the similarities from 1\n",
        "n <- nrow(dtm_matrix)\n",
        "cos_sim_array <- matrix(1 - as.vector(as.matrix(cos_sim)), n, n)\n",
        "\n",
        "# Print the result\n",
        "print(cos_sim_array)"
      ]
    },
    {
      "cell_type": "code",
      "execution_count": null,
      "metadata": {
        "tags": [],
        "vscode": {
          "languageId": "r"
        }
      },
      "outputs": [],
      "source": [
        "# Make it a little easier to read by rounding the values\n",
        "cos_sim_rounded <- round(cos_sim_array, 2)\n",
        "\n",
        "# Label the dataframe rows and columns with eggs, sausage and bacon\n",
        "cos_df <- data.frame(cos_sim_rounded, row.names = indices, check.names = FALSE)\n",
        "colnames(cos_df) <- indices\n",
        "\n",
        "# Print the data frame\n",
        "head(cos_df)"
      ]
    },
    {
      "cell_type": "markdown",
      "metadata": {},
      "source": [
        "## Exercise #2: Working with 18th Century Literature\n",
        "\n",
        "<div>\n",
        "<img src=\"media/18th_cent_literature.png\" width=\"750\"/>\n",
        "<div>\n",
        "\n",
        "<font color=\"blue\" size=12>Workshop Run Here at Start</font>"
      ]
    },
    {
      "cell_type": "code",
      "execution_count": null,
      "metadata": {
        "tags": [],
        "vscode": {
          "languageId": "r"
        }
      },
      "outputs": [],
      "source": [
        "# Load the required libraries\n",
        "library(tidyverse)\n",
        "library(repr)\n",
        "library(proxy)\n",
        "library(tm)\n",
        "library(scales)\n",
        "library(MASS)\n",
        "\n",
        "\n",
        "# Set up figures to save properly\n",
        "options(jupyter.plot_mimetypes = \"image/png\") \n",
        "\n",
        "# Time: 3 mins\n",
        "# File paths and names\n",
        "filelist <- c(\n",
        "  'txtlab_Novel450_English/EN_1850_Hawthorne,Nathaniel_TheScarletLetter_Novel.txt',\n",
        "  'txtlab_Novel450_English/EN_1851_Hawthorne,Nathaniel_TheHouseoftheSevenGables_Novel.txt',\n",
        "  'txtlab_Novel450_English/EN_1920_Fitzgerald,FScott_ThisSideofParadise_Novel.txt',\n",
        "  'txtlab_Novel450_English/EN_1922_Fitzgerald,FScott_TheBeautifulandtheDamned_Novel.txt',\n",
        "  'txtlab_Novel450_English/EN_1811_Austen,Jane_SenseandSensibility_Novel.txt',\n",
        "  'txtlab_Novel450_English/EN_1813_Austen,Jane_PrideandPrejudice_Novel.txt'\n",
        ")\n",
        "\n",
        "novel_names <- c(\n",
        "  'Hawthorne: Scarlet Letter',\n",
        "  'Hawthorne: Seven Gables',\n",
        "  'Fitzgerald: This Side of Paradise',\n",
        "  'Fitzgerald: Beautiful and the Damned',\n",
        "  'Austen: Sense and Sensibility',\n",
        "  'Austen: Pride and Prejudice'\n",
        ")\n",
        "\n",
        "# Function to read non-empty lines from the text file\n",
        "readNonEmptyLines <- function(filepath) {\n",
        "  lines <- readLines(filepath, encoding = \"UTF-8\")\n",
        "  non_empty_lines <- lines[trimws(lines) != \"\"]\n",
        "  return(paste(non_empty_lines, collapse = \" \"))\n",
        "}\n",
        "\n",
        "# Read non-empty texts into a corpus\n",
        "text_corpus <- VCorpus(VectorSource(sapply(filelist, readNonEmptyLines)))\n",
        "\n",
        "# Preprocess the text data\n",
        "text_corpus <- tm_map(text_corpus, content_transformer(tolower))\n",
        "text_corpus <- tm_map(text_corpus, removePunctuation)\n",
        "text_corpus <- tm_map(text_corpus, removeNumbers)\n",
        "text_corpus <- tm_map(text_corpus, removeWords, stopwords(\"english\"))\n",
        "text_corpus <- tm_map(text_corpus, stripWhitespace)\n",
        "\n",
        "## Time: 5 mins\n",
        "# Create a custom control for DTM with binary term frequency\n",
        "custom_control <- list(\n",
        "  tokenize = function(x) SentimentAnalysis::ngram_tokenize(x, ngmax = 1),\n",
        "  bounds = list(global = c(3, Inf)),\n",
        "  weighting = weightTf\n",
        ")\n",
        "\n",
        "# Convert the corpus to a DTM using custom control\n",
        "dtm <- DocumentTermMatrix(text_corpus, control = custom_control)\n",
        "\n",
        "# Convert DTM to a binary data frame (0 or 1)\n",
        "dtm_df_novel <- as.data.frame(as.matrix(dtm > 0))\n",
        "colnames(dtm_df_novel) <- colnames(dtm)\n",
        "\n",
        "# Set row names to novel names\n",
        "rownames(dtm_df_novel) <- novel_names\n",
        "\n",
        "# Print the resulting data frame\n",
        "tail(dtm_df_novel)"
      ]
    },
    {
      "cell_type": "code",
      "execution_count": null,
      "metadata": {
        "tags": [],
        "vscode": {
          "languageId": "r"
        }
      },
      "outputs": [],
      "source": [
        "# Just as we did above with the small data frame, we'll find the cosine similarity for these texts\n",
        "cos_sim_novel <- as.matrix(proxy::dist(dtm_df_novel, method = \"cosine\"))\n",
        "\n",
        "# Convert the cosine similarity matrix to a 2-dimensional array\n",
        "n <- nrow(dtm_df_novel)\n",
        "cos_sim_array <- matrix(1 - as.vector(as.matrix(cos_sim_novel)), n, n)\n",
        "\n",
        "# Round the cosine similarity matrix to two decimal places\n",
        "cos_sim_novel_rounded <- round(cos_sim_array, 2)\n",
        "\n",
        "# Print the rounded cosine similarity matrix\n",
        "print(cos_sim_novel_rounded)"
      ]
    },
    {
      "cell_type": "code",
      "execution_count": null,
      "metadata": {
        "tags": [],
        "vscode": {
          "languageId": "r"
        }
      },
      "outputs": [],
      "source": [
        "# Again, we'll make this a bit more readable\n",
        "cos_df <- data.frame(cos_sim_novel_rounded, row.names = novel_names, check.names = FALSE)\n",
        "\n",
        "# Set column names to novel names\n",
        "colnames(cos_df) <- novel_names\n",
        "\n",
        "# Print the DataFrame\n",
        "head(cos_df)"
      ]
    },
    {
      "cell_type": "code",
      "execution_count": null,
      "metadata": {
        "tags": [],
        "vscode": {
          "languageId": "r"
        }
      },
      "outputs": [],
      "source": [
        "# Transform cosine similarity to cosine distance\n",
        "cos_dist <- 1 - cos_sim_novel_rounded\n",
        "\n",
        "# Perform MDS\n",
        "mds <- cmdscale(cos_dist, k = 2)\n",
        "\n",
        "# Extract x and y coordinates from MDS output\n",
        "xs <- mds[, 1]\n",
        "ys <- mds[, 2]\n",
        "\n",
        "# Create a data frame with x, y coordinates, and novel names\n",
        "mds_df <- data.frame(x = xs, y = ys, novel_names = novel_names)\n",
        "\n",
        "ggplot(mds_df, aes(x, y, label = novel_names)) +\n",
        "  geom_point(size = 4) +\n",
        "  geom_text(hjust =0.6, vjust = 0.2, size = 4, angle = 45, nudge_y = 0.01) +  # Rotate text and adjust y position\n",
        "  labs(title = \"MDS Visualization of Novel Differences\") +\n",
        "  theme_minimal() +\n",
        "  theme(\n",
        "    plot.title = element_text(size = 20, hjust = 0.6, margin = margin(b = 10)),\n",
        "    plot.margin = margin(5, 5, 5, 5, \"pt\"),  # Adjust the margin around the plot\n",
        "    plot.background = element_rect(fill = \"white\"),  # Set the background color of the plot to white\n",
        "    plot.caption = element_blank(),  # Remove the default caption\n",
        "    axis.text = element_text(size = 12),  # Adjust the size of axis text\n",
        "    legend.text = element_text(size = 12),  # Adjust the size of legend text\n",
        "    legend.title = element_text(size = 14)  # Adjust the size of legend title\n",
        "  )"
      ]
    },
    {
      "cell_type": "markdown",
      "metadata": {},
      "source": [
        "The above method has a broad range of applications, such as unsupervised clustering. Common techniques include <a href = \"https://en.wikipedia.org/wiki/K-means_clustering\">K-Means Clustering</a> and <a href=\"https://en.wikipedia.org/wiki/Hierarchical_clustering\">Hierarchical Dendrograms</a>. These attempt to identify groups of texts with shared content, based on these kinds of distance measures.\n",
        "\n",
        "Here's an example of a dendrogram based on these six novels:"
      ]
    },
    {
      "cell_type": "code",
      "execution_count": null,
      "metadata": {
        "tags": [],
        "vscode": {
          "languageId": "r"
        }
      },
      "outputs": [],
      "source": [
        "# Assuming you have already calculated the \"cos_dist\" matrix and have the \"novel_names\" vector\n",
        "\n",
        "# Perform hierarchical clustering\n",
        "hclust_result <- hclust(as.dist(cos_dist), method = \"ward.D\")\n",
        "\n",
        "# Plot the dendrogram\n",
        "plot(hclust_result, hang = -1, labels = novel_names)\n",
        "\n",
        "# Optional: Adjust the layout to avoid cutoff labels\n",
        "par(mar = c(5, 4, 2, 10))  # Adjust margins\n",
        "\n",
        "# Display the dendrogram plot"
      ]
    },
    {
      "cell_type": "markdown",
      "metadata": {},
      "source": [
        "#### Vector Semantics\n",
        "\n",
        "We can also turn this logic on its head. Rather than produce vectors representing texts based on their words, we will produce vectors for the words based on their contexts."
      ]
    },
    {
      "cell_type": "code",
      "execution_count": null,
      "metadata": {
        "tags": [],
        "vscode": {
          "languageId": "r"
        }
      },
      "outputs": [],
      "source": [
        "# Transpose the DTM data frame\n",
        "transposed_dtm <- t(dtm_df_novel)\n",
        "\n",
        "# Display the first few rows of the transposed DTM\n",
        "tail(transposed_dtm)"
      ]
    },
    {
      "cell_type": "markdown",
      "metadata": {},
      "source": [
        "Because the number of words is so large, for memory reasons we're going to work with just the last few, pictured above.  \n",
        "\n",
        "* If you are running this locally, you may want to try this with more words"
      ]
    },
    {
      "cell_type": "code",
      "execution_count": null,
      "metadata": {
        "tags": [],
        "vscode": {
          "languageId": "r"
        }
      },
      "outputs": [],
      "source": [
        "# Assuming dtm_df is a data frame containing the document-term matrix\n",
        "tail_transposed_dtm <- tail(transposed_dtm)\n",
        "\n",
        "dtm_matrix <- as.matrix(tail_transposed_dtm) #remove 'tail_' to use all words\n",
        "\n",
        "# Calculate cosine similarity\n",
        "cos_sim_words <- proxy::dist(dtm_matrix, method = \"cosine\")\n",
        "\n",
        "# Convert the cosine similarity matrix to a 2-dimensional array\n",
        "n <- nrow(dtm_matrix)\n",
        "cos_sim_words <- matrix(1 - as.vector(as.matrix(cos_sim_words)), n, n)\n",
        "\n",
        "# Print the result\n",
        "head(cos_sim_words)"
      ]
    },
    {
      "cell_type": "code",
      "execution_count": null,
      "metadata": {
        "tags": [],
        "vscode": {
          "languageId": "r"
        }
      },
      "outputs": [],
      "source": [
        "# In readable format\n",
        "\n",
        "cos_sim_words <- data.frame(round(cos_sim_words, 2))\n",
        "row.names(cos_sim_words) <- row.names(tail_transposed_dtm) #remove tail_ for all\n",
        "colnames(cos_sim_words) <- row.names(tail_transposed_dtm) #remove tail_ for all\n",
        "\n",
        "head(cos_sim_words)"
      ]
    },
    {
      "cell_type": "markdown",
      "metadata": {},
      "source": [
        "Theoretically we could visualize and cluster these as well - but it would a lot of computational power!\n",
        "\n",
        "We'll instead turn to the machine learning version: word embeddings"
      ]
    },
    {
      "cell_type": "code",
      "execution_count": null,
      "metadata": {
        "vscode": {
          "languageId": "r"
        }
      },
      "outputs": [],
      "source": [
        "#check objects in memory; delete the big ones\n",
        "\n",
        "sort(sapply(ls(), function(x) format(object.size(get(x)), unit = 'auto')))\n",
        "            \n",
        "rm(cos_sim_words, cos_sim_array, text_corpus, dtm_df_novel)\n",
        "            \n",
        "sort(sapply(ls(), function(x) format(object.size(get(x)), unit = 'auto')))"
      ]
    },
    {
      "cell_type": "markdown",
      "metadata": {},
      "source": [
        "## Exercise #3: Using Word2vec with 150 English Novels\n",
        "\n",
        "In this exercise, we'll use an English-language subset from a dataset about novels created by [Andrew Piper](https://www.mcgill.ca/langlitcultures/andrew-piper). Specifically we'll look at 150 novels by British and American authors spanning the years 1771-1930. These texts reside on disk, each in a separate plaintext file. Metadata is contained in a spreadsheet distributed with the novel files.\n",
        "\n",
        "#### Metadata Columns\n",
        "<ol><li>Filename: Name of file on disk</li>\n",
        "<li>ID: Unique ID in Piper corpus</li>\n",
        "<li>Language: Language of novel</li>\n",
        "<li>Date: Initial publication date</li>\n",
        "<li>Title: Title of novel</li>\n",
        "<li>Gender: Authorial gender</li>\n",
        "<li>Person: Textual perspective</li>\n",
        "<li>Length: Number of tokens in novel</li></ol>\n",
        "\n",
        "#### Import Metadata"
      ]
    },
    {
      "cell_type": "code",
      "execution_count": null,
      "metadata": {
        "tags": [],
        "vscode": {
          "languageId": "r"
        }
      },
      "outputs": [],
      "source": [
        "# Import Metadata into Dataframe\n",
        "meta_df <- read.csv('resources/txtlab_Novel450_English.csv', encoding = 'UTF-8')"
      ]
    },
    {
      "cell_type": "code",
      "execution_count": null,
      "metadata": {
        "scrolled": true,
        "tags": [],
        "vscode": {
          "languageId": "r"
        }
      },
      "outputs": [],
      "source": [
        "# Check Metadata\n",
        "head(meta_df)"
      ]
    },
    {
      "cell_type": "markdown",
      "metadata": {},
      "source": [
        "#### Import Corpus"
      ]
    },
    {
      "cell_type": "code",
      "execution_count": null,
      "metadata": {
        "tags": [],
        "vscode": {
          "languageId": "r"
        }
      },
      "outputs": [],
      "source": [
        "# Set the path to the 'fiction_folder'\n",
        "fiction_folder <- \"txtlab_Novel450_English/\"\n",
        "\n",
        "# Create a list to store the file paths\n",
        "file_paths <- list.files(fiction_folder, full.names = TRUE)\n",
        "\n",
        "# Read all the files as a list of single strings\n",
        "novel_list <- lapply(file_paths, function(filepath) {\n",
        "  readChar(filepath, file.info(filepath)$size)\n",
        "})"
      ]
    },
    {
      "cell_type": "code",
      "execution_count": null,
      "metadata": {
        "tags": [],
        "vscode": {
          "languageId": "r"
        }
      },
      "outputs": [],
      "source": [
        "# Inspect first item in novel_list\n",
        "cat(substr(novel_list[[1]], 1, 500))"
      ]
    },
    {
      "cell_type": "markdown",
      "metadata": {},
      "source": [
        "#### Pre-Processing\n",
        "Word2Vec learns about the relationships among words by observing them in context. This means that we want to split our texts into word-units. However, we  want to maintain sentence boundaries as well, since the last word of the previous sentence might skew the meaning of the next sentence.\n",
        "\n",
        "Since novels were imported as single strings, we'll first need to divide them into sentences, and second, we'll split each sentence into its own list of words."
      ]
    },
    {
      "cell_type": "code",
      "execution_count": null,
      "metadata": {
        "vscode": {
          "languageId": "r"
        }
      },
      "outputs": [],
      "source": [
        "# Define a regular expression pattern for sentence splitting\n",
        "sentence_pattern <- \"[^.!?]+(?<!\\\\w\\\\w\\\\w\\\\.)[.!?]\"\n",
        "\n",
        "# Split each novel into sentences\n",
        "sentences <- unlist(lapply(novel_list, function(novel) {\n",
        "  str_extract_all(novel, sentence_pattern)[[1]]\n",
        "}))"
      ]
    },
    {
      "cell_type": "code",
      "execution_count": null,
      "metadata": {
        "vscode": {
          "languageId": "r"
        }
      },
      "outputs": [],
      "source": [
        "first_sentence <- sentences[1]\n",
        "print(first_sentence)"
      ]
    },
    {
      "cell_type": "markdown",
      "metadata": {},
      "source": [
        "We are defining a function called fast_tokenize, we will be using this function later when we train the word vector model. See example usage for its feature."
      ]
    },
    {
      "cell_type": "code",
      "execution_count": null,
      "metadata": {
        "vscode": {
          "languageId": "r"
        }
      },
      "outputs": [],
      "source": [
        "fast_tokenize <- function(text) {\n",
        "  \n",
        "  # Remove punctuation characters\n",
        "  no_punct <- gsub(\"[[:punct:]]\", \"\", tolower(text))\n",
        "  \n",
        "  # Split text over whitespace into a character vector of words\n",
        "  tokens <- strsplit(no_punct, \"\\\\s+\")[[1]]\n",
        "  \n",
        "  return(tokens)\n",
        "}\n",
        "\n",
        "# Example usage\n",
        "text <- \"Hello, world! This is an example sentence.\"\n",
        "tokens <- fast_tokenize(text)\n",
        "print(tokens)"
      ]
    },
    {
      "cell_type": "code",
      "execution_count": null,
      "metadata": {
        "vscode": {
          "languageId": "r"
        }
      },
      "outputs": [],
      "source": [
        "# Time: 2 mins\n",
        "# Split each sentence into tokens\n",
        "# this will take 1-2 minutes\n",
        "\n",
        "words_by_sentence <- lapply(sentences, function(sentence) {\n",
        "  fast_tokenize(sentence)\n",
        "})"
      ]
    },
    {
      "cell_type": "code",
      "execution_count": null,
      "metadata": {
        "vscode": {
          "languageId": "r"
        }
      },
      "outputs": [],
      "source": [
        "# Remove any sentences that contain zero tokens\n",
        "words_by_sentence <- words_by_sentence[sapply(words_by_sentence, length) > 0]"
      ]
    },
    {
      "cell_type": "code",
      "execution_count": null,
      "metadata": {
        "scrolled": true,
        "vscode": {
          "languageId": "r"
        }
      },
      "outputs": [],
      "source": [
        "# Inspect first sentence\n",
        "\n",
        "first_sentence_tokens <- words_by_sentence[[1]]\n",
        "print(first_sentence_tokens)"
      ]
    },
    {
      "cell_type": "markdown",
      "metadata": {},
      "source": [
        "## Training\n",
        "\n",
        "To train the model we can use this code"
      ]
    },
    {
      "cell_type": "code",
      "execution_count": null,
      "metadata": {
        "vscode": {
          "languageId": "r"
        }
      },
      "outputs": [],
      "source": [
        "# Time: 3 mins\n",
        "# Train word2vec model from txtLab corpus\n",
        "\n",
        "model <- gensim$models$Word2Vec(words_by_sentence, vector_size=100L, window=5L, min_count=25L, sg=1L, alpha=0.025, epochs=5L, batch_words=10000L)"
      ]
    },
    {
      "cell_type": "markdown",
      "metadata": {},
      "source": [
        "However, this is both very slow and very memory instensive.  Instead, we will short-cut here to load the saved results instead:"
      ]
    },
    {
      "cell_type": "code",
      "execution_count": null,
      "metadata": {
        "vscode": {
          "languageId": "r"
        }
      },
      "outputs": [],
      "source": [
        "# Load pre-trained model word2vec model from txtLab corpus\n",
        "model <- gensim$models$KeyedVectors$load_word2vec_format('resources/word2vec.txtlab_Novel150_English.txt')\n",
        "model$wv <- gensim$models$KeyedVectors$load_word2vec_format('resources/word2vec.txtlab_Novel150_English.txt')"
      ]
    },
    {
      "cell_type": "markdown",
      "metadata": {},
      "source": [
        "## Embeddings \n",
        "\n",
        "> Note: the output here is different than the Python version, even though the model is using the same parameters and same input, which is *sentences*\n",
        "\n",
        "This create a 100-dimension representation of specific words in the text corpus.  This is a _dense_ vector, meaning all of the valaues are (usually) non-zero."
      ]
    },
    {
      "cell_type": "code",
      "execution_count": null,
      "metadata": {
        "scrolled": true,
        "vscode": {
          "languageId": "r"
        }
      },
      "outputs": [],
      "source": [
        "# Return dense word vector\n",
        "vector <- model$wv$get_vector(\"whale\")\n",
        "\n",
        "data.frame(dimension = 1:100, value = vector)"
      ]
    },
    {
      "cell_type": "markdown",
      "metadata": {},
      "source": [
        "## Vector-Space Operations\n",
        "\n",
        "The key advantage of the word-embedding is the dense vector representations of words: these allow us to do _operations_ on those words, which are informative for learning about how those words are used.\n",
        "\n",
        "* This is also where the connection with LLM is created: they use these vectors to inform _predictions_ about sequences of words (and sentences, in more complex models)\n",
        "\n",
        "### Similarity\n",
        "Since words are represented as dense vectors, we can ask how similiar words' meanings are based on their cosine similarity (essentially how much they overlap). <em>gensim</em> has a few out-of-the-box functions that enable different kinds of comparisons."
      ]
    },
    {
      "cell_type": "code",
      "execution_count": null,
      "metadata": {
        "vscode": {
          "languageId": "r"
        }
      },
      "outputs": [],
      "source": [
        "# Find cosine distance between two given word vectors\n",
        "\n",
        "similarity <- model$wv$similarity(\"pride\", \"prejudice\")\n",
        "similarity"
      ]
    },
    {
      "cell_type": "code",
      "execution_count": null,
      "metadata": {
        "vscode": {
          "languageId": "r"
        }
      },
      "outputs": [],
      "source": [
        "# Find nearest word vectors by cosine distance\n",
        "\n",
        "most_similar <- model$wv$most_similar(\"pride\")\n",
        "most_similar"
      ]
    },
    {
      "cell_type": "code",
      "execution_count": null,
      "metadata": {
        "vscode": {
          "languageId": "r"
        }
      },
      "outputs": [],
      "source": [
        "# Given a list of words, we can ask which doesn't belong\n",
        "\n",
        "# Finds mean vector of words in list\n",
        "# and identifies the word further from that mean\n",
        "\n",
        "doesnt_match <- model$wv$doesnt_match(c('pride', 'prejudice', 'whale'))\n",
        "doesnt_match"
      ]
    },
    {
      "cell_type": "markdown",
      "metadata": {},
      "source": [
        "## Multiple Valences\n",
        "A word embedding may encode both primary and secondary meanings that are both present at the same time. In order to identify secondary meanings in a word, we can subtract the vectors of primary (or simply unwanted) meanings. For example, we may wish to remove the sense of <em>river bank</em> from the word <em>bank</em>. This would be written mathetmatically as <em>RIVER - BANK</em>, which in <em>gensim</em>'s interface lists <em>RIVER</em> as a positive meaning and <em>BANK</em> as a negative one."
      ]
    },
    {
      "cell_type": "code",
      "execution_count": null,
      "metadata": {
        "vscode": {
          "languageId": "r"
        }
      },
      "outputs": [],
      "source": [
        "# Get most similar words to BANK, in order\n",
        "# to get a sense for its primary meaning\n",
        "\n",
        "most_similar <- model$wv$most_similar(\"bank\")\n",
        "most_similar"
      ]
    },
    {
      "cell_type": "code",
      "execution_count": null,
      "metadata": {
        "vscode": {
          "languageId": "r"
        }
      },
      "outputs": [],
      "source": [
        "# Remove the sense of \"river bank\" from \"bank\" and see what is left\n",
        "\n",
        "result <- model$wv$most_similar(positive = \"bank\", negative = \"river\")\n",
        "\n",
        "result"
      ]
    },
    {
      "cell_type": "markdown",
      "metadata": {},
      "source": [
        "## Analogy\n",
        "Analogies are rendered as simple mathematical operations in vector space. For example, the canonic word2vec analogy <em>MAN is to KING as WOMAN is to ??</em> is rendered as <em>KING - MAN + WOMAN</em>. In the gensim interface, we designate <em>KING</em> and <em>WOMAN</em> as positive terms and <em>MAN</em> as a negative term, since it is subtracted from those."
      ]
    },
    {
      "cell_type": "code",
      "execution_count": null,
      "metadata": {
        "vscode": {
          "languageId": "r"
        }
      },
      "outputs": [],
      "source": [
        "# Get most similar words to KING, in order\n",
        "# to get a sense for its primary meaning\n",
        "\n",
        "most_similar <- model$wv$most_similar(\"king\")\n",
        "most_similar"
      ]
    },
    {
      "cell_type": "code",
      "execution_count": null,
      "metadata": {
        "vscode": {
          "languageId": "r"
        }
      },
      "outputs": [],
      "source": [
        "# The canonic word2vec analogy: King - Man + Woman -> Queen\n",
        "\n",
        "result <- model$wv$most_similar(positive = c(\"woman\", \"king\"), negative = \"man\")\n",
        "result"
      ]
    },
    {
      "cell_type": "markdown",
      "metadata": {},
      "source": [
        "### Gendered Vectors\n",
        "Can we find gender a la Schmidt (2015)? (Note that this method uses vector projection, whereas Schmidt had used rejection.)"
      ]
    },
    {
      "cell_type": "code",
      "execution_count": null,
      "metadata": {
        "scrolled": true,
        "vscode": {
          "languageId": "r"
        }
      },
      "outputs": [],
      "source": [
        "# Feminine Vector\n",
        "\n",
        "result <- model$wv$most_similar(positive = c(\"she\", \"her\", \"hers\", \"herself\"), negative = c(\"he\", \"him\", \"his\", \"himself\"))\n",
        "result"
      ]
    },
    {
      "cell_type": "code",
      "execution_count": null,
      "metadata": {
        "vscode": {
          "languageId": "r"
        }
      },
      "outputs": [],
      "source": [
        "# Masculine Vector\n",
        "\n",
        "result <- model$wv$most_similar(positive = c(\"he\", \"him\", \"his\", \"himself\"), negative = c(\"she\", \"her\", \"hers\", \"herself\"))\n",
        "result"
      ]
    },
    {
      "cell_type": "markdown",
      "metadata": {},
      "source": [
        "## Visualization"
      ]
    },
    {
      "cell_type": "code",
      "execution_count": null,
      "metadata": {
        "vscode": {
          "languageId": "r"
        }
      },
      "outputs": [],
      "source": [
        "# Note: due to some discrepencies between Python and R, this may not be translated exactly\n",
        "# Dictionary of words in model\n",
        "\n",
        "key_to_index <- model$wv$key_to_index #this stores the index of each word in the model\n",
        "\n",
        "head(key_to_index)"
      ]
    },
    {
      "cell_type": "code",
      "execution_count": null,
      "metadata": {
        "vscode": {
          "languageId": "r"
        }
      },
      "outputs": [],
      "source": [
        "# Visualizing the whole vocabulary would make it hard to read\n",
        "\n",
        "key_to_index <- model$wv$key_to_index\n",
        "\n",
        "# Get the number of unique words in the vocabulary (vocabulary size)\n",
        "vocabulary_size <- length(key_to_index)\n",
        "\n",
        "# Find most similar tokens\n",
        "similarity_result <- model$wv$most_similar(positive = c(\"she\", \"her\", \"hers\", \"herself\"),\n",
        "                                           negative = c(\"he\", \"him\", \"his\", \"himself\"),\n",
        "                                           topn = as.integer(50))  # Convert to integer\n",
        "\n",
        "# Extract tokens from the result\n",
        "her_tokens <- sapply(similarity_result, function(item) item[1])"
      ]
    },
    {
      "cell_type": "code",
      "execution_count": null,
      "metadata": {
        "vscode": {
          "languageId": "r"
        }
      },
      "outputs": [],
      "source": [
        "her_tokens_first_15 <- her_tokens[1:15]\n",
        "\n",
        "# Inspect list\n",
        "her_tokens_first_15"
      ]
    },
    {
      "cell_type": "code",
      "execution_count": null,
      "metadata": {
        "tags": [],
        "vscode": {
          "languageId": "r"
        }
      },
      "outputs": [],
      "source": [
        "# Get the vector for each sampled word\n",
        "\n",
        "for (i in 1:length(her_tokens)){\n",
        "    \n",
        "    if (i == 1) { vectors_matrix <- model$wv$get_vector(i) } else {\n",
        "        vectors_matrix <- rbind(vectors_matrix, model$wv$get_vector(i))\n",
        "    } \n",
        "    \n",
        "}\n",
        "\n",
        "# Print the vectors matrix\n",
        "head(vectors_matrix, n = 5)            "
      ]
    },
    {
      "cell_type": "code",
      "execution_count": null,
      "metadata": {
        "tags": [],
        "vscode": {
          "languageId": "r"
        }
      },
      "outputs": [],
      "source": [
        "# Calculate distances among texts in vector space\n",
        "\n",
        "dist_matrix <- as.matrix(proxy::dist(vectors_matrix, by_rows = TRUE, method = \"cosine\"))\n",
        "\n",
        "# Print the distance matrix\n",
        "head(dist_matrix, n = 5)"
      ]
    },
    {
      "cell_type": "code",
      "execution_count": null,
      "metadata": {
        "tags": [],
        "vscode": {
          "languageId": "r"
        }
      },
      "outputs": [],
      "source": [
        "# Multi-Dimensional Scaling (Project vectors into 2-D)\n",
        "\n",
        "\n",
        "# Perform Multi-Dimensional Scaling (MDS)\n",
        "mds <- cmdscale(dist_matrix, k = 2)\n",
        "\n",
        "# Print the resulting MDS embeddings\n",
        "head(mds)"
      ]
    },
    {
      "cell_type": "code",
      "execution_count": null,
      "metadata": {
        "vscode": {
          "languageId": "r"
        }
      },
      "outputs": [],
      "source": [
        "plot_data <- data.frame(x = mds[, 1], y = mds[, 2], label = unlist(her_tokens))\n",
        "\n",
        "\n",
        "# Create the scatter plot with text labels using ggplot2\n",
        "p <- ggplot(plot_data, aes(x = x, y = y, label = label)) +\n",
        "  geom_point(alpha = 0) +\n",
        "  geom_text(nudge_x = 0.02, nudge_y = 0.02) +\n",
        "  theme_minimal()\n",
        "\n",
        "# Print the plot\n",
        "print(p)"
      ]
    },
    {
      "cell_type": "code",
      "execution_count": null,
      "metadata": {
        "vscode": {
          "languageId": "r"
        }
      },
      "outputs": [],
      "source": [
        "# For comparison, here is the same graph using a masculine-pronoun vector\n",
        "\n",
        "# Find most similar tokens\n",
        "similarity_result <- model$wv$most_similar(negative = c(\"she\", \"her\", \"hers\", \"herself\"),\n",
        "                                           positive = c(\"he\", \"him\", \"his\", \"himself\"),\n",
        "                                           topn = as.integer(50))  # Convert to integer\n",
        "\n",
        "his_tokens <- sapply(similarity_result, function(item) item[1])\n",
        "\n",
        "\n",
        "# Get the vector for each sampled word\n",
        "\n",
        "for (i in 1:length(his_tokens)){\n",
        "    \n",
        "    if (i == 1) { vectors_matrix <- model$wv$get_vector(i) } else {\n",
        "        vectors_matrix <- rbind(vectors_matrix, model$wv$get_vector(i))\n",
        "    } \n",
        "    \n",
        "}\n",
        "\n",
        "dist_matrix <- as.matrix(proxy::dist(vectors_matrix, by_rows = TRUE, method = \"cosine\"))\n",
        " \n",
        "mds <- cmdscale(dist_matrix, k = 2)\n",
        "                     \n",
        "plot_data <- data.frame(x = mds[, 1], y = mds[, 2], label = unlist(his_tokens))\n",
        "\n",
        "# Create the scatter plot with text labels using ggplot2\n",
        "p <- ggplot(plot_data, aes(x = x, y = y, label = label)) +\n",
        "  geom_point(alpha = 0) +\n",
        "  geom_text(nudge_x = 0.02, nudge_y = 0.02) +\n",
        "  theme_minimal()\n",
        "\n",
        "# Print the plot\n",
        "print(p)"
      ]
    },
    {
      "cell_type": "markdown",
      "metadata": {},
      "source": [
        "> ### <span style=\"color:#CC7A00\" > **Questions:** </p>\n",
        "> <span style=\"color:#CC7A00\" > What kinds of semantic relationships exist in the diagram above? </p>\n",
        "> <span style=\"color:#CC7A00\" > Are there any words that seem out of place?\n",
        "</span>\n",
        "\n",
        "## 3. Saving/Loading Models"
      ]
    },
    {
      "cell_type": "code",
      "execution_count": null,
      "metadata": {
        "vscode": {
          "languageId": "r"
        }
      },
      "outputs": [],
      "source": [
        "# Save current model for later use\n",
        "\n",
        "model$wv$save_word2vec_format('resources/word2vec.txtlab_Novel150_English.txt') "
      ]
    },
    {
      "cell_type": "code",
      "execution_count": null,
      "metadata": {
        "vscode": {
          "languageId": "r"
        }
      },
      "outputs": [],
      "source": [
        "# Load up models from disk\n",
        "\n",
        "# Model trained on Eighteenth Century Collections Online corpus (~2500 texts)\n",
        "# Made available by Ryan Heuser: http://ryanheuser.org/word-vectors-1/\n",
        "\n",
        "ecco_model <- gensim$models$KeyedVectors$load_word2vec_format('resources/word2vec.ECCO-TCP.txt')"
      ]
    },
    {
      "cell_type": "code",
      "execution_count": null,
      "metadata": {
        "vscode": {
          "languageId": "r"
        }
      },
      "outputs": [],
      "source": [
        "# What are similar words to BANK?\n",
        "\n",
        "ecco_model$most_similar('bank')"
      ]
    },
    {
      "cell_type": "code",
      "execution_count": null,
      "metadata": {
        "vscode": {
          "languageId": "r"
        }
      },
      "outputs": [],
      "source": [
        "# What if we remove the sense of \"river bank\"?\n",
        "ecco_model$most_similar(positive = list('bank'), negative = list('river'))"
      ]
    },
    {
      "cell_type": "markdown",
      "metadata": {},
      "source": [
        "## Exercises!\n",
        "\n",
        "See if you can attempt the following exercises on your own!"
      ]
    },
    {
      "cell_type": "code",
      "execution_count": null,
      "metadata": {
        "vscode": {
          "languageId": "r"
        }
      },
      "outputs": [],
      "source": [
        "## EX. Use the most_similar method to find the tokens nearest to 'car' in either model.\n",
        "##     Do the same for 'motorcar'.\n",
        "\n",
        "## Q.  What characterizes these two words inthe corpus? Does this make sense?\n",
        "\n",
        "model$wv$most_similar(\"car\")"
      ]
    },
    {
      "cell_type": "code",
      "execution_count": null,
      "metadata": {
        "vscode": {
          "languageId": "r"
        }
      },
      "outputs": [],
      "source": [
        "model$wv$most_similar('motorcar')"
      ]
    },
    {
      "cell_type": "code",
      "execution_count": null,
      "metadata": {
        "vscode": {
          "languageId": "r"
        }
      },
      "outputs": [],
      "source": [
        "## EX. How does our model answer the analogy: MADRID is to SPAIN as PARIS is to __________\n",
        "\n",
        "## Q.  What has our model learned about nation-states?\n",
        "\n",
        "\n",
        "model$wv$most_similar(positive = c('paris', 'spain'), negative = c('madrid'))"
      ]
    },
    {
      "cell_type": "code",
      "execution_count": null,
      "metadata": {
        "vscode": {
          "languageId": "r"
        }
      },
      "outputs": [],
      "source": [
        "## EX. Perform the canonic Word2Vec addition again but leave out a term:\n",
        "##     Try 'king' - 'man', 'woman' - 'man', 'woman' + 'king'\n",
        "\n",
        "## Q.  What do these indicate semantically?\n",
        "\n",
        "model$wv$most_similar(positive = c('woman'), negative = c('man'))"
      ]
    },
    {
      "cell_type": "code",
      "execution_count": null,
      "metadata": {
        "vscode": {
          "languageId": "r"
        }
      },
      "outputs": [],
      "source": [
        "## EX. Heuser's blog post explores an analogy in eighteenth-century thought that\n",
        "##     RICHES are to VIRTUE what LEARNING is to GENIUS. How true is this in\n",
        "##     the ECCO-trained Word2Vec model? Is it true in the one we trained?\n",
        "\n",
        "##  Q. How might we compare word2vec models more generally?"
      ]
    },
    {
      "cell_type": "code",
      "execution_count": null,
      "metadata": {
        "vscode": {
          "languageId": "r"
        }
      },
      "outputs": [],
      "source": [
        "# ECCO model: RICHES are to VIRTUE what LEARNING is to ??\n",
        "\n",
        "ecco_model$most_similar(positive = c('learning', 'virtue'), negative = c('riches'))"
      ]
    },
    {
      "cell_type": "code",
      "execution_count": null,
      "metadata": {
        "scrolled": true,
        "vscode": {
          "languageId": "r"
        }
      },
      "outputs": [],
      "source": [
        "# txtLab model: RICHES are to VIRTUE what LEARNING is to ??\n",
        "model$wv$most_similar(positive = c('learning', 'virtue'), negative = c('riches'))"
      ]
    },
    {
      "cell_type": "markdown",
      "metadata": {},
      "source": [
        "## Concluding Remarks and Resources\n",
        "Throughout this notebook we have seen how a number of mathematical operations can be used to explore word2vec's word embeddings. Hopefully this notebook has allowed you to see how the inherent biases of language become coded into word embeddings and systems that use word embeddings cannot be treated as search engines. \n",
        "\n",
        "While getting inside the technics of these computational processes can enable us to answer a set of new, interesting questions dealing with semantics, there are many other questions that remain unanswered.\n",
        "\n",
        "For example:\n",
        "* Many language models are built using text from large, online corpora (such as Wikipedia, which is known to have a contributor basis that is majority white, college-educated men) - what kind of impact might this have on a language model?\n",
        "* What barriers to the healthy functioning of democracy are created by the widespread use of these tools and technologies in society?\n",
        "* How might language models challenge or renegotiate ideas around copyright, intellectual property and conceptions of authorship more broadly?\n",
        "* What might guardrails look like for the safe and equitable management and deployment of language models?\n",
        "\n",
        "## Resources\n",
        "* [UBC Library Generative AI Research Guide](https://guides.library.ubc.ca/GenAI/home)\n",
        "* ... other UBC resources...\n",
        "* [What Is ChatGPT Doing … and Why Does It Work?](https://writings.stephenwolfram.com/2023/02/what-is-chatgpt-doing-and-why-does-it-work/) by Stephen Wolfram\n",
        "\n",
        "## References\n",
        "This notebook has been built using the following materials:\n",
        "- Arseniev-Koehler, A., & Foster, J. G. (2020). Sociolinguistic Properties of Word Embeddings [Preprint]. SocArXiv. https://doi.org/10.31235/osf.io/b8kud\n",
        "- Schiffers, R., Kern, D., & Hienert, D. (2023). Evaluation of Word Embeddings for the Social Sciences (arXiv:2302.06174). arXiv. http://arxiv.org/abs/2302.06174\n",
        "\n",
        "- [TensorFlow word2vec tutorial](https://www.tensorflow.org/text/tutorials/word2vec)\n",
        "\n",
        "- Anwla, P. K. (2019, October 22). Challenges in word2vec Model. TowardsMachineLearning. https://towardsmachinelearning.org/performance-problems-in-word2vec-model/\n",
        "\n",
        "- Chandran, S. (2021, November 16). Introduction to Text Representations for Language Processing—Part 2. Medium. https://towardsdatascience.com/introduction-to-text-representations-for-language-processing-part-2-54fe6907868\n"
      ]
    }
  ],
  "metadata": {
    "kernelspec": {
      "display_name": "R",
      "language": "R",
      "name": "ir"
    },
    "language_info": {
      "codemirror_mode": "r",
      "file_extension": ".r",
      "mimetype": "text/x-r-source",
      "name": "R",
      "pygments_lexer": "r",
      "version": "3.6.1"
    }
  },
  "nbformat": 4,
  "nbformat_minor": 4
}
