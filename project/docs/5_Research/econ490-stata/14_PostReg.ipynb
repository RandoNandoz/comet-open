{
  "cells": [
    {
      "cell_type": "raw",
      "metadata": {},
      "source": [
        "---\n",
        "title: '14 - Good Regression Practices'\n",
        "author: Marina Adshade, Paul Corcuera, Giulia Lo Forte, Jane Platt\n",
        "date: 2024-05-29\n",
        "description: This notebook covers some good practices that should be implemented when we perform regression analysis. We look at how to handle outliers, multicollinearity, heteroskedasticity, and nonlinearity. \n",
        "categories: [econ 490, stata, outliers, winsorizing, trimming, multicollinearity, heteroskedasticity, nonlinearity]\n",
        "format: \n",
        "  html: default\n",
        "  ipynb:\n",
        "      syntax-definitions: \n",
        "      - stata.xml\n",
        "      kernelspec: \n",
        "        display_name: Stata\n",
        "        language: Stata\n",
        "        name: stata\n",
        "---"
      ],
      "id": "01a1b173"
    },
    {
      "cell_type": "markdown",
      "metadata": {},
      "source": [
        "## Prerequisites \n",
        "\n",
        "1. Importing data into Stata.\n",
        "2. Creating new variables using `generate` and `replace`.\n",
        "3. Identifying percentiles in data using `summarize` and `return list`.\n",
        "4. Running OLS regressions.\n",
        "\n",
        "## Learning Outcomes\n",
        "\n",
        "1. Identify and correct for outliers by trimming or winsorizing the dependent variable. \n",
        "2. Identify and correct for the problem of multicollinearity.\n",
        "3. Identify and correct for the problem of heteroskedasticity. \n",
        "4. Identify and correct for the problem of non-linearity. \n",
        "\n",
        "## 14.1 Dealing with Outliers \n",
        "\n",
        "Imagine that we have constructed a dependent variable which contains the earnings growth of individual workers and we see that some worker's earnings increased by more than 400%. We might wonder if this massive change is just a coding error made by the statisticians that produced the data set. Even without that type of error, though, we might worry that the earnings growth of a small number of observations are driving the results of our analysis. If this is the case, we will produce an inaccurate analysis based on results that are not associated with the majority of our observations. \n",
        "\n",
        "The standard practice in these cases is to either winsorize or trim the subset of observations that are used in that regression. Both practices remove the outlier values in the dependent variable to allow us to produce a more accurate empirical analysis. In this section, we will look at both approaches.\n",
        "\n",
        "<div class=\"alert alert-block alert-warning\">\n",
        "    \n",
        "**Warning:** We should only consider fixing outliers when there is a clear reason to address this issue. Do not apply the tools below if the summary statistics in your data make sense to you in terms of abnormal values. For example, outliers might be a sign that our dependent and explanatory variables have a non-linear relationship. If that is the case, we will want to consider including an interaction term that addresses that non-linearity. A good way to test for this is to create a scatter plot of our dependent and independent variables. This will help us to see if there are actually some outliers, or if there is just a non-linear relationship. </div>\n",
        "\n",
        "### 14.1.1 Winsorizing a Dependent Variable\n",
        "\n",
        "Winsorizing is the process of limiting extreme values in the dependent variable to reduce the effect of (possibly erroneous) outliers. It consists of replacing values below the $a$th percentile by that percentile's value, and values above the $b$th percentile by that percentile's value. Consider the following example using our fake data set:\n"
      ],
      "id": "7fa00eed"
    },
    {
      "cell_type": "code",
      "metadata": {},
      "source": [
        "clear all\n",
        "*cd \"\"\n",
        "use fake_data, clear "
      ],
      "id": "de476596",
      "execution_count": null,
      "outputs": []
    },
    {
      "cell_type": "markdown",
      "metadata": {},
      "source": [
        "Let's have a look at the distribution of earnings in the data set.\n",
        "\n",
        "Specifically, focus on the earnings at four points of the distribution: the minimum, the maximum, the 1st percentile, and the 99th percentile. We can display them using locals, as seen in [Module 4](https://comet.arts.ubc.ca/docs/Research/econ490-stata/04_Locals_and_Globals.html).\n"
      ],
      "id": "6d65ced8"
    },
    {
      "cell_type": "code",
      "metadata": {},
      "source": [
        "summarize earnings, detail\n",
        "local ratio_lb = round(r(p1)/r(min))\n",
        "local ratio_ub = round(r(max)/r(p99))\n",
        "display \"The earnings of the individual in the 1st percentile are `r(p1)'\"\n",
        "display \"The lowest earner in the dataset earned `r(min)'\"\n",
        "display \"The earnings of the individual in the 99th percentile are `r(p99)' \"\n",
        "display \"The highest earner in the dataset earned `r(max)'\"\n",
        "display \"The individual in the 1st pctile earned `ratio_lb' times as much as the lowest earner!\"\n",
        "display \"The highest earner earned `ratio_ub' times as much as the individual in the 99th pctile!\""
      ],
      "id": "7be77542",
      "execution_count": null,
      "outputs": []
    },
    {
      "cell_type": "markdown",
      "metadata": {},
      "source": [
        "From the summary statistics above, we can see that that the income earned by the individual at the 1st percentile is 2,831.03 and that the lowest earner in the data set earned 8.88.  \n",
        "\n",
        "We can also see that income earned by the individual at the 99th percentile is only 607,140.32 and that the highest earner in the data earned over 60 millions!\n",
        "\n",
        "These facts suggest to us that there are large outliers in our dependent variable.\n",
        "\n",
        "We want to get rid of these outliers by winsorizing our data set. What that means is replacing the earnings of all observations below the 1st percentile by exactly the earnings of the individual at the 1st percentile, and replacing the earnings of all observations above the 99th percentile by exactly the earnings of the individual at the 99th percentile. \n",
        "\n",
        "Recall that we can see how Stata stored the information in the previously run `summarize` command by using the command `return list`.\n"
      ],
      "id": "6e6fc995"
    },
    {
      "cell_type": "code",
      "metadata": {},
      "source": [
        "return list"
      ],
      "id": "78cff559",
      "execution_count": null,
      "outputs": []
    },
    {
      "cell_type": "markdown",
      "metadata": {},
      "source": [
        "To winsorize this data, we do the following 3 step process:\n",
        "\n",
        "1. We create a new variable called *earnings_winsor* which is identical to our _earnings_ variable (`gen earnings_winsor = earnings`). We choose to store the winsorized version of the dependent variable in a different variable so that we don't overwrite the original data set. \n",
        "2. If earnings are smaller than the 1st percentile, we replace the values of *earnings_winsor* with the earnings of the individual at the 1st percentile (stored in Stata in `r(p1)`). Note that we need to ensure that Stata does not replace missing values with `r(p1)`.\n",
        "3. If earnings are larger than the 99th percentile, we replace the values of *earnings_winsor* with the earnings of the individual at the 99th percentile (stored in Stata in `r(p99)`). Note that we need to ensure that Stata does not replace missing values with `r(p99)`.\n",
        "\n",
        "We do this below:\n"
      ],
      "id": "c74cc7f9"
    },
    {
      "cell_type": "code",
      "metadata": {},
      "source": [
        "generate earnings_winsor = earnings\n",
        "replace earnings_winsor = r(p1) if earnings_winsor<r(p1) & earnings_winsor!=.\n",
        "replace earnings_winsor = r(p99) if earnings_winsor>r(p99) & earnings_winsor!=."
      ],
      "id": "5338e96d",
      "execution_count": null,
      "outputs": []
    },
    {
      "cell_type": "markdown",
      "metadata": {},
      "source": [
        "Let's take a look at the summary statistics of the original earnings variable and the new variable that we have created:\n"
      ],
      "id": "0e83f55d"
    },
    {
      "cell_type": "code",
      "metadata": {},
      "source": [
        "summarize earnings earnings_winsor"
      ],
      "id": "7bdf0621",
      "execution_count": null,
      "outputs": []
    },
    {
      "cell_type": "markdown",
      "metadata": {},
      "source": [
        "Now we will use this new dependent variable in our regression analysis. If the outliers were not creating problems, there will be no change in the results. If they were creating problems, those problems will now be fixed. \n",
        "\n",
        "Let's take a look at this by first running the regression from [Module 11](https://comet.arts.ubc.ca/docs/Research/econ490-stata/11_Linear_Reg.html) with the original _logearnings_ variable.\n"
      ],
      "id": "67835ad1"
    },
    {
      "cell_type": "code",
      "metadata": {},
      "source": [
        "capture drop logearnings\n",
        "generate logearnings = log(earnings)\n",
        "regress logearnings age "
      ],
      "id": "5eb6fb61",
      "execution_count": null,
      "outputs": []
    },
    {
      "cell_type": "markdown",
      "metadata": {},
      "source": [
        "Now we will run this again, using the new winsorized _logearnings_ variable. \n"
      ],
      "id": "5000ae93"
    },
    {
      "cell_type": "code",
      "metadata": {},
      "source": [
        "capture drop logearnings_winsor\n",
        "generate logearnings_winsor = log(earnings_winsor)\n",
        "regress logearnings_winsor age "
      ],
      "id": "1b8fc1fa",
      "execution_count": null,
      "outputs": []
    },
    {
      "cell_type": "markdown",
      "metadata": {},
      "source": [
        "Do you think that in this case the outliers were having a significant impact before being winsorized?\n",
        "\n",
        "### 14.1.2 Trimming a Dependent Variable \n",
        "\n",
        "Trimming consists of replacing both values below the $a$th percentile and values above the $b$th percentile by a missing value. This is done to exclude these outliers from regression, since Stata automatically excludes missing observations in the command `regress`.\n",
        "\n",
        "Below, we look at the commands for trimming a variable. Notice that the steps are quite similar to when we winsorized the same variable. Don't forget to create a new *earnings_trim* variable to avoid overwriting our original variable!\n"
      ],
      "id": "c04cf0fe"
    },
    {
      "cell_type": "code",
      "metadata": {},
      "source": [
        "summarize earnings, detail\n",
        "\n",
        "capture drop earnings_trim\n",
        "generate earnings_trim = earnings\n",
        "replace earnings_trim = . if earnings_trim < r(p1) & earnings_trim!=.\n",
        "replace earnings_trim = . if earnings_trim > r(p99) & earnings_trim!=."
      ],
      "id": "f4dec7d3",
      "execution_count": null,
      "outputs": []
    },
    {
      "cell_type": "markdown",
      "metadata": {},
      "source": [
        "And here is the result of the regression with the new dependent variable:\n"
      ],
      "id": "497fe07d"
    },
    {
      "cell_type": "code",
      "metadata": {},
      "source": [
        "capture drop logearnings_trim\n",
        "generate logearnings_trim = log(earnings_trim)\n",
        "regress logearnings_trim age "
      ],
      "id": "62eaf9d5",
      "execution_count": null,
      "outputs": []
    },
    {
      "cell_type": "markdown",
      "metadata": {},
      "source": [
        "## 14.2 Multicollinearity \n",
        "\n",
        "If two variables are linear combinations of one another they are multicollinear. Ultimately, Stata does not allow us to include two variables in a regression that are perfect linear combinations of one another, such as a constant or a dummy variable for male and a dummy for female (since female = 1 - male). In all of the regressions above, we see that one of those variables was dropped from the regression \"because of collinearity\".\n"
      ],
      "id": "e65ade18"
    },
    {
      "cell_type": "code",
      "metadata": {},
      "source": [
        "capture drop male\n",
        "generate male = sex == \"M\"\n",
        "\n",
        "capture drop female \n",
        "generate female = sex == \"F\""
      ],
      "id": "7a9ddc30",
      "execution_count": null,
      "outputs": []
    },
    {
      "cell_type": "code",
      "metadata": {},
      "source": [
        "regress logearnings male female"
      ],
      "id": "6fc176b4",
      "execution_count": null,
      "outputs": []
    },
    {
      "cell_type": "markdown",
      "metadata": {},
      "source": [
        "Is this a problem? Not really. Multicollinearity is a sign that a variable is not adding any new information. Notice that with the constant term and a male dummy we can know the mean earnings of females. In this case, the constant term is, by construction, the mean earnings of females, and the male dummy gives the earning premium paid to male workers.\n",
        "\n",
        "While there are some statistical tests for multicollinearity, nothing beats having the right intuition when running a regression. If there is an obvious case where two variables contain basically the same information, we'll want to avoid including both in the analysis. \n",
        "\n",
        "For instance, we might have an age variable that includes both years and months (e.g. if a baby is 1 year and 1 month old, then this age variable would be coded as 1 + 1/12 = 1.083). If we included this variable in a regression which also included an age variable that includes only years (e.g the baby's age would be coded as 1) then we would have the problem of multicollinearity. Because they are not perfectly collinear, Stata might still produce some results; however, the coefficients on these two variables would be biased.\n",
        "\n",
        "## 14.3 Heteroskedasticity \n",
        "\n",
        "When we run a linear regression, we essentially split the outcome into a (linear) part explained by observables ($x_i$) and an error term ($e_i$):\n",
        "$$\n",
        "y_i = a + b x_i + e_i\n",
        "$$ \n",
        "\n",
        "The standard errors in our coefficients depend on $e_i^2$ (as you might remember from your econometrics courses). Heteroskedasticity refers to the case where the variance of this projection error depends on the observables $x_i$. For instance, the variance of wages tends to be higher for people who are university educated (some of these people have very high wages) whereas it is small for people who are non-university educated (these people tend to be concentrated in lower paying jobs). Stata by default assumes that the variance does not depend on the observables, which is known as homoskedasticity. It is safe to say that this is an incredibly restrictive assumption.\n",
        "\n",
        "While there are tests for heteroskedasticity, the more empirical economists rely on including the option `robust` at the end of the `regress` command for the OLS regression to address this. This will adjust our standard errors to make them robust to heteroskedasticity.\n"
      ],
      "id": "87ac152e"
    },
    {
      "cell_type": "code",
      "metadata": {},
      "source": [
        "capture drop logearnings\n",
        "generate logearnings = log(earnings)\n",
        "regress logearnings age, robust"
      ],
      "id": "22e5aa8e",
      "execution_count": null,
      "outputs": []
    },
    {
      "cell_type": "markdown",
      "metadata": {},
      "source": [
        "Best practices are simply to always use robust standard errors in your own research project, since most standard errors will be heteroskedastic.\n",
        "\n",
        "## 14.4 Non-linearity\n",
        "\n",
        "Our regression analysis so far assumes that the relationship between our independent and explanatory variables is linear. If this is not the case, and the relationship is non-linear, then we are getting inaccurate results with our analysis. \n",
        "\n",
        "Let's consider an example. We know that earnings increases with age, but what if economic theory predicts that earnings increase by more for each year of age when workers are younger than when they are older? What we are asking here is whether earnings is increasing with age at a decreasing rate. In essence, we want to check whether there is a concave relation between age and earnings. We can think of several mechanisms for why this relationship might exist: for a young worker, as they age, they get higher wages through increased experience in the job; for an older worker, as they age, those wage increases will be smaller as there are smaller productity gains with each additional year working. In fact, if the productivity of workers decreaseas as they age, perhaps for reasons related to health, then it is possible to find a negative relationship between age and earning beyond a certain age -- the relationship would be an inverted U-shape.\n",
        "\n",
        "We could check if this is the case in our model by including a new interaction term that is simply age interacted with itself, which is the equivalent of including age and age squared. We learned how to do this in [Module 13](https://comet.arts.ubc.ca/docs/Research/econ490-stata/13_Dummy.html). Let's include this in the regression above, remembering that age is a continuous variable (do you remember how to include a continuous variable in a regression?).\n"
      ],
      "id": "1b24a0fb"
    },
    {
      "cell_type": "code",
      "metadata": {},
      "source": [
        "regress logearnings c.age##c.age"
      ],
      "id": "89df0fce",
      "execution_count": null,
      "outputs": []
    },
    {
      "cell_type": "markdown",
      "metadata": {},
      "source": [
        "There does seem to be some evidence in our regression results that this economic theory is correct, since the coefficient on the interaction term is both negative and statistically significant.\n",
        "\n",
        "How do we interpret these results? Let's think about the equation we have just estimated:\n",
        "$$\n",
        "Earnings_i = \\beta_0 + \\beta_1 Age_i + \\beta_2 Age^2_i + \\varepsilon_i \n",
        "$$\n",
        "\n",
        "This means that earnings of an individual change in the following way with their age:\n",
        "$$\n",
        "\\frac{\\partial Earnings_i}{\\partial Age_i} = \\beta_1 + 2 \\beta_2 Age_i\n",
        "$$\n",
        "\n",
        "Due to the quadratic term, as age changes, the relationship between age and earnings changes as well.\n",
        "\n",
        "We have just estimated $\\beta_1$ to be positive and equal to 0.079, and $\\beta_2$ to be negative and equal to 0.001.\n",
        "\n",
        "This means that, as age increases, it's correlation with earnings decrease:\n",
        "$$\n",
        "\\frac{\\partial Earnings_i}{\\partial Age_i} = 0.079 - 2 * 0.001 Age_i\n",
        "$$\n",
        "\n",
        "Since the marginal effect changes with the size of $Age_i$, providing one unique number for the marginal effect becomes difficult.\n",
        "\n",
        "The most frequently reported version of this effect is the \"marginal effect at the means\": the marginal effect of age on earnings when age takes its average value. In our case, this will be equal to 0.079 minus 0.002 times the average value of age.\n",
        "\n",
        "To do this in practice, we store the estimated coefficients and average age in three locals: local *agemean* stores the average age, while locals *beta1* and *beta2* store the estimated coefficients. We learned how to do this in [Module 4](https://comet.arts.ubc.ca/docs/Research/econ490-stata/04_Locals_and_Globals.html). Notice that Stata automatically stores the estimated coefficients in locals with syntax `_b[regressor name]`. To retrieve the estimated coefficient $\\beta_2$, we manually create the variable $Age^2_i$ and call it *agesq*.\n"
      ],
      "id": "b9c32968"
    },
    {
      "cell_type": "code",
      "metadata": {},
      "source": [
        "summarize age\n",
        "local agemean : display %2.0fc r(mean)\n",
        "capture drop agesq\n",
        "generate agesq = age*age\n",
        "regress logearnings age agesq\n",
        "local beta1 : display %5.3fc _b[age]\n",
        "local beta2 : display %5.3fc _b[agesq]\n",
        "local marg_effect = `beta1' + (2 * `beta2' * `agemean')\n",
        "display \"beta1 is `beta1', beta2 is `beta2', and average age is `agemean'.\"\n",
        "display \"Therefore, the marginal effect at the means is `beta1' + 2*(`beta2')*`agemean', which is equal to `marg_effect'.\""
      ],
      "id": "252261ff",
      "execution_count": null,
      "outputs": []
    },
    {
      "cell_type": "markdown",
      "metadata": {},
      "source": [
        "We find that the marginal effect at the mean is -0.011. What does that mean? It means that, for the average person, becoming one year older is associated with a 1% decrease in log earnings.\n",
        "\n",
        "Notice that this is the effect for the *average person*. Is the same true for young workers and older workers? To learn how to interpret this non-linearity in age, let's see how the predicted earnings correlate with age.\n",
        "\n",
        "We can obtain the predicted earnings with the `predict` command and then use a scatterplot to eyeball it's relationship with age. We covered how to create scatterplots in [Module 9](https://comet.arts.ubc.ca/docs/Research/econ490-stata/09_Stata_Graphs.html) and the `predict` function in [Module 11](https://comet.arts.ubc.ca/docs/Research/econ490-stata/11_Linear_Reg.html).\n",
        "\n",
        "<div class=\"alert alert-info\">\n",
        "\n",
        "**Note:** Stata graphs will not appear in the Jupyter Notebooks. To make the most out of this part of the module, it is recommended that you run this code on Stata installed locally in your computer. </div>\n"
      ],
      "id": "89c517a0"
    },
    {
      "cell_type": "code",
      "metadata": {},
      "source": [
        "* Run the regression with the quadratic term\n",
        "regress logearnings c.age##c.age\n",
        "\n",
        "* Predict earnings and save them as yhat\n",
        "predict yhat, xb\n",
        "\n",
        "* Plot the scatterplot\n",
        "twoway scatter yhat age"
      ],
      "id": "eafec15c",
      "execution_count": null,
      "outputs": []
    },
    {
      "cell_type": "markdown",
      "metadata": {},
      "source": [
        "The scatterplot shows an inverted-U relationship between age and the predicted log-earnings. This relationship implies that, when a worker is very young, aging is positively correlated with earnings. However, after a certain age, this correlation becomes negative and the worker gets lower earnings for each additional year of age. In fact, based on this graph, workers earnings start to decline just after the age of 50. Had we modelled this as a linear model, we would have missed this important piece of information!\n",
        "\n",
        "<div class=\"alert alert-info\">\n",
        "\n",
        "**Note:** If there is a theoretical reason for believing that non-linearity exists, Stata provides some tests for non-linearity. We can also create a scatter-plot to see if we observe a non-linear relationship in the data. We covered that approach in [Module 9](https://comet.arts.ubc.ca/docs/Research/econ490-stata/09_Stata_Graphs.html). </div>\n",
        "\n",
        "## 14.5 Wrap Up \n",
        "\n",
        "It is important to always follow best practices for regression analysis. Nonetheless, checking and correcting for outliers, as well as addressing heteroskedasticity, multicollinearity and non-linearity can be more of an art than a science. If you need any guidance on whether or not you need to address these issues, please be certain to speak with your instructor, TA, or supervisor.\n",
        "\n",
        "## References\n",
        "\n",
        "[How to identify and replace unusual data values](https://www.youtube.com/watch?v=jIiHb0gsyVo)\n"
      ],
      "id": "2ad83186"
    }
  ],
  "metadata": {
    "kernelspec": {
      "name": "stata",
      "language": "stata",
      "display_name": "Stata"
    }
  },
  "nbformat": 4,
  "nbformat_minor": 5
}