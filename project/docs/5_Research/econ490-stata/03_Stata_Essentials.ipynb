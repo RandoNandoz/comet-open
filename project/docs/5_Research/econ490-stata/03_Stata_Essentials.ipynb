{
  "cells": [
    {
      "cell_type": "raw",
      "metadata": {},
      "source": [
        "---\n",
        "title: '03 - Stata Essentials'\n",
        "authors: Marina Adshade, Paul Corcuera, Giulia Lo Forte, Jane Platt\n",
        "date: 2024-05-29\n",
        "description: This notebook dives into a few essentials commands in Stata, including describe, summarize, loops, and help.\n",
        "categories: [econ 490, stata, describe, summarize, loops, help]\n",
        "format: \n",
        "  html: default\n",
        "  ipynb:\n",
        "      syntax-definitions: \n",
        "      - stata.xml\n",
        "      kernelspec: \n",
        "        display_name: Stata\n",
        "        language: Stata\n",
        "        name: stata\n",
        "---"
      ],
      "id": "e8bbf964"
    },
    {
      "cell_type": "markdown",
      "metadata": {},
      "source": [
        "## Prerequisites \n",
        "\n",
        "1. Understand how to effectively use Stata do-files and know how to generate log files.\n",
        "\n",
        "## Learning Outcomes\n",
        "\n",
        "1. View the characteristics of any dataset using the command `describe`.\n",
        "2. Use `help` to learn best how to run commands.\n",
        "3. Understand the Stata command syntax using the command `summarize`.\n",
        "4. Create loops using the commands `for`, `while`, `forvalues` and `foreach` .\n",
        "\n",
        "\n",
        "## 3.1 Describing Your Data\n",
        "\n",
        "Let's start by opening a dataset that was provided when we installed Stata onto our computers. We will soon move on to importing our own data, but this Stata data set will help get us started. This is a data set on automobiles and their characteristics. We can install this dataset by running the command in the cell below:\n"
      ],
      "id": "8d779f6e"
    },
    {
      "cell_type": "code",
      "metadata": {},
      "source": [
        "sysuse auto.dta, clear"
      ],
      "id": "db4bedec",
      "execution_count": null,
      "outputs": []
    },
    {
      "cell_type": "markdown",
      "metadata": {},
      "source": [
        "We can begin by checking the characteristics of the data set we have just downloaded. The command `describe` allows us to see the number of observations, the number of variables, a list of variable names and descriptions, and the variable types and labels of that data set.\n"
      ],
      "id": "bec636cd"
    },
    {
      "cell_type": "code",
      "metadata": {},
      "source": [
        "describe "
      ],
      "id": "e8882ca3",
      "execution_count": null,
      "outputs": []
    },
    {
      "cell_type": "markdown",
      "metadata": {},
      "source": [
        "Notice that this data set consists of 12 variables and 74 observations. We can see that the first variable is named _make_, which indicates the make and model of the vehicle. We can also see that the variable _make_ is a string variable (made up of text). Other variables in this data set are numeric. For example, the variable _mpg_ indicates the vehicle's mileage (miles per gallon) as an integer. The variable _foreign_ is also numeric, and it only takes the values 0 or 1, indicating whether the car is foreign or domestically made; this is a dummy variable. \n",
        "\n",
        "## 3.2 Introduction to Stata Command Syntax\n",
        "\n",
        "### 3.2.1 Using HELP to understand commands\n",
        "\n",
        "Stata has a help manual installed in the program which provides documentation for all Stata published commands. This information can be reached by typing the command `help` and then the name of the command we need extra information about. \n",
        "\n",
        "Let's try to see what extra information Stata provides by using the `help` command with the `summarize` command. `summarize` gives us the basic statistics from any variable(s) in the data set, such as the variables we have discussed above, but what else can it do? To see the extra information that is available by using `summarize`, let's run the command below: \n"
      ],
      "id": "250e7dae"
    },
    {
      "cell_type": "code",
      "metadata": {},
      "source": [
        "help summarize"
      ],
      "id": "51c6caf0",
      "execution_count": null,
      "outputs": []
    },
    {
      "cell_type": "markdown",
      "metadata": {},
      "source": [
        "We need to run this command directly into the Stata console on our computer in order to able to see all of the information provided by `help`. Running this command now will allow us to see that output directly.\n",
        "\n",
        "When we do, we can see that the first 1-2 letters of the command are often underlined. This underlining indicates the shortest permitted abbreviation for a command (or option). \n",
        "\n",
        "For example, if we type `help rename`, we can see that `rename` can be abbreviated as `ren`, `rena`, or `renam`, or it can be spelled out in its entirety. \n",
        "\n",
        "Other examples are, `g`enerate, `ap`pend, `rot`ate, `ru`n.\n",
        "\n",
        "If there is no underline, then no abbreviation is allowed. For example, the command `replace` cannot be abbreviated. The reason for this is that Stata doesn't want us to accidentally make changes to our data by replacing the information in the variable. \n",
        "\n",
        "We can write the `summarize` command with its shortest abbreviation `su` or a longer abbreviation such as `sum`. \n",
        "\n",
        "Also, in the Stata help output we can see that some words are written in blue and are encased within square brackets. We will talk more about these options below, but in Stata we can directly click on those links for more information from help. \n",
        "\n",
        "Finally, help provides a list of the available options for a command. In the case of `summarize`, these options allow us to display extra information for a variable. We will learn more about this below in section 3.2.4.\n",
        "\n",
        "### 3.2.2 Imposing IF conditions\n",
        "\n",
        "When the syntax of the command allows for `[if]`, we can run the command on a subset of the data that satisfies any condition we choose. Here is the list of conditional operators available to us:\n",
        "\n",
        "1. Equal: ==\n",
        "2. Greater than and less than: > and <\n",
        "3. Greater than or equal and less than or equal: >= and <= \n",
        "4. Not Equal: != \n",
        "\n",
        "We can also compound different conditions using the list of logical operators:\n",
        "\n",
        "1. And: & \n",
        "2. Or: | \n",
        "3. Not: ! or ~ \n",
        "\n",
        "Let's look at an example which applies this new knowledge: summarizing the variable _price_ when the make of the car is domestic (i.e. not foreign):\n"
      ],
      "id": "93ff7514"
    },
    {
      "cell_type": "code",
      "metadata": {},
      "source": [
        "su price if foreign == 0"
      ],
      "id": "b6885684",
      "execution_count": null,
      "outputs": []
    },
    {
      "cell_type": "markdown",
      "metadata": {},
      "source": [
        "Let's do this again, but now we will impose the additional condition that the mileage must be less than 25.\n"
      ],
      "id": "597a5ffd"
    },
    {
      "cell_type": "code",
      "metadata": {},
      "source": [
        "su price if foreign == 0  & mpg < 25"
      ],
      "id": "e91eb78a",
      "execution_count": null,
      "outputs": []
    },
    {
      "cell_type": "markdown",
      "metadata": {},
      "source": [
        "Maybe we want to restrict to a particular list of values. Here we can write out all of the conditions using the \"or\" operator, or we can simply make use of the option `inlist()`:\n"
      ],
      "id": "5ed49f45"
    },
    {
      "cell_type": "code",
      "metadata": {},
      "source": [
        "su price if mpg == 10 | mpg == 15 | mpg == 25 | mpg == 40"
      ],
      "id": "b0e2c8ca",
      "execution_count": null,
      "outputs": []
    },
    {
      "cell_type": "markdown",
      "metadata": {},
      "source": [
        "This works exactly the same way as this command:\n"
      ],
      "id": "68ff9185"
    },
    {
      "cell_type": "code",
      "metadata": {},
      "source": [
        "su price if inlist(mpg,10,15,25,40)"
      ],
      "id": "7b56ea26",
      "execution_count": null,
      "outputs": []
    },
    {
      "cell_type": "markdown",
      "metadata": {},
      "source": [
        "Maybe we want to restrict to values in a particular range. Here we can use the conditional operators, or we can make use of the option `inrange()`:\n"
      ],
      "id": "2d2ff9b7"
    },
    {
      "cell_type": "code",
      "metadata": {},
      "source": [
        "su price if mpg >= 5 & mpg <= 25"
      ],
      "id": "71d0d529",
      "execution_count": null,
      "outputs": []
    },
    {
      "cell_type": "markdown",
      "metadata": {},
      "source": [
        "Notice the output returned by the code below is equal to the previous cell:\n"
      ],
      "id": "bcd4d7fc"
    },
    {
      "cell_type": "code",
      "metadata": {},
      "source": [
        "su price if inrange(mpg,5,25) "
      ],
      "id": "df532075",
      "execution_count": null,
      "outputs": []
    },
    {
      "cell_type": "markdown",
      "metadata": {},
      "source": [
        "There might be variables for which there is no information recorded for some observations. For example, when we `summarize` our automobile data we will see that there are 74 observations for most variables, but that the variable _rep78_ has only 69 observations - for five observations there is no repair record indicated in the data set.\n"
      ],
      "id": "0742c2e9"
    },
    {
      "cell_type": "code",
      "metadata": {},
      "source": [
        "su price rep78 "
      ],
      "id": "65edc457",
      "execution_count": null,
      "outputs": []
    },
    {
      "cell_type": "markdown",
      "metadata": {},
      "source": [
        "If, for some reason, we only want to consider observations without missing values, we can use the option `!missing()` which combines the command `missing()` with the negative conditional operator \"!\". For example, the command below says to summarize the variable _price_ for all observations for which _rep78_ is NOT missing.\n"
      ],
      "id": "66c80742"
    },
    {
      "cell_type": "code",
      "metadata": {},
      "source": [
        "su price if !missing(rep78)"
      ],
      "id": "c39816b9",
      "execution_count": null,
      "outputs": []
    },
    {
      "cell_type": "markdown",
      "metadata": {},
      "source": [
        "This command can also be written using the conditional operator since missing numeric variables are indicated by a \".\". This is shown below:\n"
      ],
      "id": "01edac15"
    },
    {
      "cell_type": "code",
      "metadata": {},
      "source": [
        "su price if rep78 != ."
      ],
      "id": "2ed71699",
      "execution_count": null,
      "outputs": []
    },
    {
      "cell_type": "markdown",
      "metadata": {},
      "source": [
        "Notice that in both cases there are only 69 observations.\n",
        "\n",
        "If we wanted to do this with missing string variables, we could indicate those with \"\". \n",
        "\n",
        "### 3.2.3 Imposing IN conditions \n",
        "\n",
        "We can also subset the data by using the observation number. The example below summarizes the data in observations 1 through 10.\n"
      ],
      "id": "55b83652"
    },
    {
      "cell_type": "code",
      "metadata": {},
      "source": [
        "su price in 1/10"
      ],
      "id": "8921c208",
      "execution_count": null,
      "outputs": []
    },
    {
      "cell_type": "markdown",
      "metadata": {},
      "source": [
        "But be careful! This type of condition is generally not recommended because it depends on how the data is ordered.\n",
        "\n",
        "To see this, let's sort the observations in ascending order by running the command `sort`: \n"
      ],
      "id": "1e330b65"
    },
    {
      "cell_type": "code",
      "metadata": {},
      "source": [
        "sort price \n",
        "su price in 1/10"
      ],
      "id": "21ab573f",
      "execution_count": null,
      "outputs": []
    },
    {
      "cell_type": "markdown",
      "metadata": {},
      "source": [
        "We can see that the result changes because the observations 1 through 10 in the data are now different.\n",
        "\n",
        "Always avoid using `in` whenever you can. Try to use `if` instead!\n",
        "\n",
        "### 3.2.4 Command options\n",
        "\n",
        "When we used the `help` command, we saw that we can introduce some optional arguments after a comma. In the case of the `summarize` command, we were shown the following options: `d`etail, `mean`only, `f`ormat and `sep`arator(#). \n",
        "\n",
        "If we want additional statistics apart from the mean, standard deviation, min, and max values, we can use the option `detail` or just `d` for short.\n"
      ],
      "id": "759cab35"
    },
    {
      "cell_type": "code",
      "metadata": {},
      "source": [
        "su price, d"
      ],
      "id": "38344ddc",
      "execution_count": null,
      "outputs": []
    },
    {
      "cell_type": "markdown",
      "metadata": {},
      "source": [
        "## 3.3 Using Loops \n",
        "\n",
        "Much like any other programming language, there are `for` and `while` loops that we can use to iterate through many times. In particular, the `for` loops are also sub-divided into `forvalues` (which iterate across a range of numbers) and `foreach` (which iterate across a list of names). \n",
        "\n",
        "It is very common that these loops create a *local* scope (i.e. the iteration labels only exist within a loop). A `local` in Stata is a special variable that we create ourselves that temporarily stores information. We'll discuss locals in the next module, but consider this simple example in which the letter \"i\" is used as a place holder for the number 95 -- it is a `local`. \n",
        "\n",
        "For a better understanding of locals and globals, please visit [Module 4](https://comet.arts.ubc.ca/docs/Research/econ490-stata/04_Locals_and_Globals.html).\n"
      ],
      "id": "259f098a"
    },
    {
      "cell_type": "code",
      "metadata": {},
      "source": [
        "local i = 95\n",
        "\n",
        "display `i'"
      ],
      "id": "0cb7cf2a",
      "execution_count": null,
      "outputs": []
    },
    {
      "cell_type": "markdown",
      "metadata": {},
      "source": [
        "We can also create locals that are strings rather than numeric in type. Consider this example:\n"
      ],
      "id": "aa80710e"
    },
    {
      "cell_type": "code",
      "metadata": {},
      "source": [
        "local course = \"ECON 490\"\n",
        "\n",
        "display \"`course'\""
      ],
      "id": "378ea52c",
      "execution_count": null,
      "outputs": []
    },
    {
      "cell_type": "markdown",
      "metadata": {},
      "source": [
        "We can store anything inside a local. When we want to use that information, we include the local encased in a backtick (`) and  apostrophe (').\n"
      ],
      "id": "8cf5ad15"
    },
    {
      "cell_type": "code",
      "metadata": {},
      "source": [
        "local course = \"ECON 490\"\n",
        "\n",
        "display \"I am enrolled in `course' and hope my grade will be `i'%!\""
      ],
      "id": "8bb517bb",
      "execution_count": null,
      "outputs": []
    },
    {
      "cell_type": "markdown",
      "metadata": {},
      "source": [
        "### 3.3.1 Creating loops Using `forvalues` \n",
        "\n",
        "Whenever we want to iterate across a range of values defined as `forvalues = local_var_name =  min_value(steps)max_value`, we can write the command below. Here we are iterating from 1 to 10 in increments of 1.\n"
      ],
      "id": "2a9714f8"
    },
    {
      "cell_type": "code",
      "metadata": {},
      "source": [
        "forvalues counter=1(1)10{\n",
        "    *Notice that now counter is a local variable\n",
        "    display `counter'\n",
        "}"
      ],
      "id": "0e44cefe",
      "execution_count": null,
      "outputs": []
    },
    {
      "cell_type": "markdown",
      "metadata": {},
      "source": [
        "Notice that the open brace `{` needs to be on the same line as the `for` command, with no comments after it. Similarly, the closing brace `}` needs to be on its own line.\n",
        "\n",
        "Experiment below with the command above by changing the increments and min or max values. See what your code outputs.\n"
      ],
      "id": "f961d15d"
    },
    {
      "cell_type": "code",
      "metadata": {},
      "source": [
        "/*\n",
        "forvalues counter=???(???)???{\n",
        "    display `counter'\n",
        "}\n",
        "*/ "
      ],
      "id": "868e4be1",
      "execution_count": null,
      "outputs": []
    },
    {
      "cell_type": "markdown",
      "metadata": {},
      "source": [
        "### 3.3.2 Creating loops using `foreach`\n",
        "\n",
        "Whenever we want to iterate across a list of names, we can use the `foreach` command below. This asks Stata to `summarize` for a list of variables (in this example, _mpg_ and _price_).\n",
        "\n",
        "The syntax for `foreach` is similar to that of `forvalues`: `foreach local_var_name in  \"list of variables\"`. Here, we are asking Stata to perform the `summarize` command on two variables (_mpg_ and _price_):\n"
      ],
      "id": "5d5ac656"
    },
    {
      "cell_type": "code",
      "metadata": {},
      "source": [
        "foreach name in \"mpg\" \"price\"{\n",
        "    summarize `name'\n",
        "}"
      ],
      "id": "4da6c442",
      "execution_count": null,
      "outputs": []
    },
    {
      "cell_type": "markdown",
      "metadata": {},
      "source": [
        "We can have a list stored in a local variable as well. Here, we are storing a list, which includes two variable names (_mpg_ and _price_) in a local called _namelist_. Then, using `foreach`, we summarize _name_ which runs through the list we created above, called _namelist_. \n"
      ],
      "id": "6c46866b"
    },
    {
      "cell_type": "code",
      "metadata": {},
      "source": [
        "local namelist \"mpg price\"\n",
        "foreach name in `namelist'{\n",
        "    summarize `name'\n",
        "}"
      ],
      "id": "26ae5c66",
      "execution_count": null,
      "outputs": []
    },
    {
      "cell_type": "markdown",
      "metadata": {},
      "source": [
        "### 3.3.3 Writing loops with conitions using `while`\n",
        "\n",
        "Whenever we want to iterate until a condition is met, we can write the command below. The condition here is simply \"while counter is less than 5\". \n"
      ],
      "id": "f2582870"
    },
    {
      "cell_type": "code",
      "metadata": {},
      "source": [
        "local counter = 1 \n",
        "while `counter'<5{\n",
        "    display `counter'\n",
        "    local counter = `counter'+1\n",
        "}"
      ],
      "id": "38b1af26",
      "execution_count": null,
      "outputs": []
    },
    {
      "cell_type": "markdown",
      "metadata": {},
      "source": [
        "## 3.4 Errors\n",
        "\n",
        "A common occurrence while working with Stata is encountering various errors. Whenever an error occurs, the program will stop executing and an error message will pop-up. Most commonly occuring errors can be attributed to syntax issues, so we should always verify our code before execution. Below we have provided 3 common errors that may pop up.\n"
      ],
      "id": "c0f0d970"
    },
    {
      "cell_type": "code",
      "metadata": {},
      "source": [
        "summarize hello"
      ],
      "id": "cc50f709",
      "execution_count": null,
      "outputs": []
    },
    {
      "cell_type": "markdown",
      "metadata": {},
      "source": [
        "We must always verify that the variable you use for a command exists and that you are using its correct spelling. Stata alerts you when you try to execute a command with a non-existing variable.\n"
      ],
      "id": "3d341366"
    },
    {
      "cell_type": "code",
      "metadata": {},
      "source": [
        "su price if 5 =< mpg =< 25"
      ],
      "id": "3c2699fd",
      "execution_count": null,
      "outputs": []
    },
    {
      "cell_type": "markdown",
      "metadata": {},
      "source": [
        "In this example, the error is due to the use of invalid conditional operators. To make use of the greater than or equal to operator, you must use the symbol (mpg >= ) and to use the less than or equal to operator, you use the symbol (mpg <= ). \n"
      ],
      "id": "60eb52ff"
    },
    {
      "cell_type": "code",
      "metadata": {},
      "source": [
        "local word = 95\n",
        "\n",
        "display \"I am enrolled in `course' and hope my grade will be 'word'%!\" // this is incorrect \n",
        "\n",
        "display \"I am enrolled in `course' and hope my grade will be `word'%!\" // this is correct"
      ],
      "id": "5bcc8424",
      "execution_count": null,
      "outputs": []
    },
    {
      "cell_type": "markdown",
      "metadata": {},
      "source": [
        "The number 95 does not display in the string due to the wrong punctuation marks being used to enclose the local. We make the error of using two apostraphes instead of a backtick (`) and an apostrophe (').\n",
        "\n",
        "## 3.5 Wrap Up\n",
        "\n",
        "In this module, we looked at the way Stata commands function and how their syntax works. In general, many Stata commands will follow the folllowing structure: \n",
        "\n",
        "```Stata\n",
        "name_of_command [varlist] [if] [in] [weight] [, options]\n",
        "``` \n",
        "\n",
        "At this point, you should feel more comfortable reading a documentation file for a Stata command. The question that remains is how to find new commands!\n",
        "\n",
        "You are encouraged to search for commands using the command `search`. For example, if you are interested in running a regression you can write:\n"
      ],
      "id": "f7dff254"
    },
    {
      "cell_type": "code",
      "metadata": {},
      "source": [
        "search regress "
      ],
      "id": "53708629",
      "execution_count": null,
      "outputs": []
    },
    {
      "cell_type": "markdown",
      "metadata": {},
      "source": [
        "We can see that a new Stata window pops up on our computer, and we can click on the different options that are shown to look at the documentation for all these commands. Try it yourself in the code cell below!\n"
      ],
      "id": "2c16ad20"
    },
    {
      "cell_type": "markdown",
      "metadata": {},
      "source": [
        "In the following modules, whenever there is a command which confuses you, feel free to write `search command` or `help command` to redirect to the documentation for reference.\n",
        "\n",
        "<div class=\"alert alert-info\">\n",
        "\n",
        "**Note:** These commands have to be used on your Stata console!</div>\n",
        "\n",
        "In the next module, we will expand on our knowledge of locals, as well as globals, another type of variable.\n",
        "\n",
        "## 3.6 Wrap-up Table\n",
        "\n",
        "|Command  |  Function|\n",
        "|---------|------------|\n",
        "|`describe` |Provides the characteristics of our dataset including the number of observations and variables, and variable types|\n",
        "|`summarize`| Calculates and provides a variety of summary statistics of the general dataset or specific variables|\n",
        "|`help`     |Provides information on each command including its definition, syntax, and the options associated with the command|\n",
        "|`if-conditions`|Used to verify a condition before executing a command. If conditions make use of logical and conditional operators and are preceded by the desired command|\n",
        "|`sort`     |Used to sort the observations of the data set into ascending order|\n",
        "|`detail`   |Provides additional statistics, including skewness, kurtosis, the four smallest and four largest values, and various percentile|\n",
        "|`display`  |Displays strings and values of scalar expressions|\n",
        "|`search`   |Can be used to find useful commands|\n",
        "|`while`    |A type of loop that iterates until a condition is met|\n",
        "|`forvalues`|A type of for-loop that iterates across a range of numbers|\n",
        "|`foreach`  |A type of for-loop that iterates across a list of items|\n",
        "\n",
        "## References\n",
        "\n",
        "[PDF documentation in Stata](https://www.youtube.com/watch?v=zyJ8Wk3rV2c&list=PLN5IskQdgXWnnIVeA_Y0OBGmnw21fvcmU&index=2) <br>\n",
        "[Stata Interface tour](https://www.youtube.com/watch?v=FQ1MBQw_MTI) <br>\n",
        "[One-way tables of summary statistics](https://www.youtube.com/watch?v=ug0LihyIzvM) <br>\n",
        "[Two-way tables of summary statistics](https://www.youtube.com/watch?v=u_Efw1oWxWk)\n"
      ],
      "id": "58b88dbe"
    }
  ],
  "metadata": {
    "kernelspec": {
      "name": "stata",
      "language": "stata",
      "display_name": "Stata"
    }
  },
  "nbformat": 4,
  "nbformat_minor": 5
}